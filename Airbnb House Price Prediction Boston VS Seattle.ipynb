{
 "cells": [
  {
   "cell_type": "markdown",
   "metadata": {},
   "source": [
    "## Airbnb price prediction\n",
    "\n",
    "### Business questions?\n",
    "\n",
    "#### 1. How is the evolution of price along the years and month in Boston?\n",
    "#### 2.How do we compare the evolution of price between Boston and Seattle?\n",
    "#### 3. What are the features most influence on the price?\n",
    "#### 4. Are the most predictive features of Seattle different from Boston?\n"
   ]
  },
  {
   "cell_type": "markdown",
   "metadata": {},
   "source": [
    "### Upload packages\n",
    "\n",
    "**Since I don´t know how the model is and which model I should use, I have uploaded the most frequent used data processing and modeling packages.**"
   ]
  },
  {
   "cell_type": "code",
   "execution_count": 12,
   "metadata": {},
   "outputs": [],
   "source": [
    "#load the packages I need for this analysis\n",
    "import pandas as pd\n",
    "import numpy as np\n",
    "import random\n",
    "import seaborn as sns\n",
    "import matplotlib.pyplot as plt\n",
    "%matplotlib inline\n",
    "from time import time\n",
    "from datetime import datetime\n",
    "import datetime as dt \n",
    "from sklearn.metrics import fbeta_score, accuracy_score\n",
    "from sklearn.base import clone\n",
    "from sklearn.metrics import r2_score, mean_squared_error, mean_absolute_error\n",
    "from sklearn.linear_model import LinearRegression\n",
    "from sklearn.cross_validation import train_test_split\n",
    "from sklearn.ensemble import RandomForestRegressor, GradientBoostingRegressor, AdaBoostRegressor\n",
    "from sklearn.linear_model import LogisticRegression\n",
    "from sklearn.model_selection import GridSearchCV\n",
    "from sklearn.metrics import fbeta_score, accuracy_score\n",
    "from sklearn.tree import DecisionTreeClassifier\n",
    "from sklearn.ensemble import AdaBoostClassifier, BaggingClassifier, RandomForestClassifier\n",
    "from math import sqrt\n",
    "from sklearn.preprocessing import MultiLabelBinarizer\n",
    "from collections import defaultdict"
   ]
  },
  {
   "cell_type": "markdown",
   "metadata": {},
   "source": [
    "### Access the data -  Boston airbnb calender data"
   ]
  },
  {
   "cell_type": "code",
   "execution_count": 13,
   "metadata": {},
   "outputs": [],
   "source": [
    "#Read the boston airbnb info\n",
    "calender_boston = pd.read_csv('calendar.csv')"
   ]
  },
  {
   "cell_type": "code",
   "execution_count": 14,
   "metadata": {},
   "outputs": [
    {
     "data": {
      "text/html": [
       "<div>\n",
       "<style scoped>\n",
       "    .dataframe tbody tr th:only-of-type {\n",
       "        vertical-align: middle;\n",
       "    }\n",
       "\n",
       "    .dataframe tbody tr th {\n",
       "        vertical-align: top;\n",
       "    }\n",
       "\n",
       "    .dataframe thead th {\n",
       "        text-align: right;\n",
       "    }\n",
       "</style>\n",
       "<table border=\"1\" class=\"dataframe\">\n",
       "  <thead>\n",
       "    <tr style=\"text-align: right;\">\n",
       "      <th></th>\n",
       "      <th>listing_id</th>\n",
       "      <th>date</th>\n",
       "      <th>available</th>\n",
       "      <th>price</th>\n",
       "      <th>adjusted_price</th>\n",
       "      <th>minimum_nights</th>\n",
       "      <th>maximum_nights</th>\n",
       "    </tr>\n",
       "  </thead>\n",
       "  <tbody>\n",
       "    <tr>\n",
       "      <th>0</th>\n",
       "      <td>225224</td>\n",
       "      <td>2019-02-09</td>\n",
       "      <td>t</td>\n",
       "      <td>$105.00</td>\n",
       "      <td>$105.00</td>\n",
       "      <td>1</td>\n",
       "      <td>365</td>\n",
       "    </tr>\n",
       "    <tr>\n",
       "      <th>1</th>\n",
       "      <td>225224</td>\n",
       "      <td>2019-02-10</td>\n",
       "      <td>t</td>\n",
       "      <td>$105.00</td>\n",
       "      <td>$105.00</td>\n",
       "      <td>1</td>\n",
       "      <td>365</td>\n",
       "    </tr>\n",
       "    <tr>\n",
       "      <th>2</th>\n",
       "      <td>225224</td>\n",
       "      <td>2019-02-11</td>\n",
       "      <td>t</td>\n",
       "      <td>$105.00</td>\n",
       "      <td>$105.00</td>\n",
       "      <td>1</td>\n",
       "      <td>365</td>\n",
       "    </tr>\n",
       "    <tr>\n",
       "      <th>3</th>\n",
       "      <td>225224</td>\n",
       "      <td>2019-02-12</td>\n",
       "      <td>t</td>\n",
       "      <td>$105.00</td>\n",
       "      <td>$105.00</td>\n",
       "      <td>1</td>\n",
       "      <td>365</td>\n",
       "    </tr>\n",
       "    <tr>\n",
       "      <th>4</th>\n",
       "      <td>225224</td>\n",
       "      <td>2019-02-13</td>\n",
       "      <td>t</td>\n",
       "      <td>$105.00</td>\n",
       "      <td>$105.00</td>\n",
       "      <td>1</td>\n",
       "      <td>365</td>\n",
       "    </tr>\n",
       "    <tr>\n",
       "      <th>5</th>\n",
       "      <td>225224</td>\n",
       "      <td>2019-02-14</td>\n",
       "      <td>t</td>\n",
       "      <td>$105.00</td>\n",
       "      <td>$105.00</td>\n",
       "      <td>1</td>\n",
       "      <td>365</td>\n",
       "    </tr>\n",
       "    <tr>\n",
       "      <th>6</th>\n",
       "      <td>225224</td>\n",
       "      <td>2019-02-15</td>\n",
       "      <td>t</td>\n",
       "      <td>$105.00</td>\n",
       "      <td>$105.00</td>\n",
       "      <td>1</td>\n",
       "      <td>365</td>\n",
       "    </tr>\n",
       "    <tr>\n",
       "      <th>7</th>\n",
       "      <td>225224</td>\n",
       "      <td>2019-02-16</td>\n",
       "      <td>t</td>\n",
       "      <td>$105.00</td>\n",
       "      <td>$105.00</td>\n",
       "      <td>1</td>\n",
       "      <td>365</td>\n",
       "    </tr>\n",
       "    <tr>\n",
       "      <th>8</th>\n",
       "      <td>225224</td>\n",
       "      <td>2019-02-17</td>\n",
       "      <td>t</td>\n",
       "      <td>$105.00</td>\n",
       "      <td>$105.00</td>\n",
       "      <td>1</td>\n",
       "      <td>365</td>\n",
       "    </tr>\n",
       "    <tr>\n",
       "      <th>9</th>\n",
       "      <td>225224</td>\n",
       "      <td>2019-02-18</td>\n",
       "      <td>t</td>\n",
       "      <td>$105.00</td>\n",
       "      <td>$105.00</td>\n",
       "      <td>1</td>\n",
       "      <td>365</td>\n",
       "    </tr>\n",
       "  </tbody>\n",
       "</table>\n",
       "</div>"
      ],
      "text/plain": [
       "   listing_id        date available    price adjusted_price  minimum_nights  \\\n",
       "0      225224  2019-02-09         t  $105.00        $105.00               1   \n",
       "1      225224  2019-02-10         t  $105.00        $105.00               1   \n",
       "2      225224  2019-02-11         t  $105.00        $105.00               1   \n",
       "3      225224  2019-02-12         t  $105.00        $105.00               1   \n",
       "4      225224  2019-02-13         t  $105.00        $105.00               1   \n",
       "5      225224  2019-02-14         t  $105.00        $105.00               1   \n",
       "6      225224  2019-02-15         t  $105.00        $105.00               1   \n",
       "7      225224  2019-02-16         t  $105.00        $105.00               1   \n",
       "8      225224  2019-02-17         t  $105.00        $105.00               1   \n",
       "9      225224  2019-02-18         t  $105.00        $105.00               1   \n",
       "\n",
       "   maximum_nights  \n",
       "0             365  \n",
       "1             365  \n",
       "2             365  \n",
       "3             365  \n",
       "4             365  \n",
       "5             365  \n",
       "6             365  \n",
       "7             365  \n",
       "8             365  \n",
       "9             365  "
      ]
     },
     "execution_count": 14,
     "metadata": {},
     "output_type": "execute_result"
    }
   ],
   "source": [
    "#See how the dataframe look like and what info is inside\n",
    "calender_boston.head(10)"
   ]
  },
  {
   "cell_type": "code",
   "execution_count": 15,
   "metadata": {},
   "outputs": [
    {
     "name": "stdout",
     "output_type": "stream",
     "text": [
      "<class 'pandas.core.frame.DataFrame'>\n",
      "RangeIndex: 2246575 entries, 0 to 2246574\n",
      "Data columns (total 7 columns):\n",
      "listing_id        int64\n",
      "date              object\n",
      "available         object\n",
      "price             object\n",
      "adjusted_price    object\n",
      "minimum_nights    int64\n",
      "maximum_nights    int64\n",
      "dtypes: int64(3), object(4)\n",
      "memory usage: 120.0+ MB\n"
     ]
    }
   ],
   "source": [
    "#Check the data type\n",
    "calender_boston.info()"
   ]
  },
  {
   "cell_type": "markdown",
   "metadata": {},
   "source": [
    "### Clean the data -  Boston airbnb calender data"
   ]
  },
  {
   "cell_type": "code",
   "execution_count": 16,
   "metadata": {},
   "outputs": [],
   "source": [
    "# I am actually just interested in knowing the year and month. So I will just extract the year and month\n",
    "calender_boston['year_month'] = calender_boston['date'] .apply(lambda x: datetime.strptime(x, '%Y-%m-%d').strftime(\"%Y-%m\"))"
   ]
  },
  {
   "cell_type": "code",
   "execution_count": 17,
   "metadata": {},
   "outputs": [],
   "source": [
    "calender_boston['year_month_time'] = pd.to_datetime(calender_boston['year_month'])"
   ]
  },
  {
   "cell_type": "code",
   "execution_count": 18,
   "metadata": {},
   "outputs": [],
   "source": [
    "#Since we can see the format of \"price\" and \"adjusted_price\" start with \"$\", we should firstly remove it\n",
    "calender_boston['price'] = calender_boston['price'].str.lstrip('$')\n",
    "calender_boston['adjusted_price'] = calender_boston['adjusted_price'].str.lstrip('$')\n",
    "#Now let's convert the string into float by removing \",\"\n",
    "calender_boston['price'] = calender_boston['price'].str.replace(',','')\n",
    "calender_boston['adjusted_price'] = calender_boston['adjusted_price'].str.replace(',','')\n",
    "calender_boston['price'] = pd.to_numeric(calender_boston['price'])\n",
    "calender_boston['adjusted_price'] = pd.to_numeric(calender_boston['adjusted_price'])"
   ]
  },
  {
   "cell_type": "code",
   "execution_count": 19,
   "metadata": {},
   "outputs": [],
   "source": [
    "calender_boston['listing_id'] = calender_boston['listing_id'].astype(str)"
   ]
  },
  {
   "cell_type": "code",
   "execution_count": 20,
   "metadata": {
    "scrolled": false
   },
   "outputs": [
    {
     "name": "stdout",
     "output_type": "stream",
     "text": [
      "<class 'pandas.core.frame.DataFrame'>\n",
      "RangeIndex: 2246575 entries, 0 to 2246574\n",
      "Data columns (total 9 columns):\n",
      "listing_id         object\n",
      "date               object\n",
      "available          object\n",
      "price              float64\n",
      "adjusted_price     float64\n",
      "minimum_nights     int64\n",
      "maximum_nights     int64\n",
      "year_month         object\n",
      "year_month_time    datetime64[ns]\n",
      "dtypes: datetime64[ns](1), float64(2), int64(2), object(4)\n",
      "memory usage: 154.3+ MB\n"
     ]
    }
   ],
   "source": [
    "calender_boston.info()"
   ]
  },
  {
   "cell_type": "markdown",
   "metadata": {},
   "source": [
    "### Analize and Visualize the data -  Boston airbnb calender data"
   ]
  },
  {
   "cell_type": "code",
   "execution_count": 25,
   "metadata": {
    "scrolled": false
   },
   "outputs": [
    {
     "data": {
      "image/png": "[encoded data removed]",
      "text/plain": [
       "<Figure size 1080x432 with 2 Axes>"
      ]
     },
     "metadata": {},
     "output_type": "display_data"
    }
   ],
   "source": [
    "fig, ax1 = plt.subplots(figsize=(15,6))\n",
    "x = calender_boston.groupby(['year_month_time'])['price'].mean()\n",
    "y = calender_boston.groupby(['year_month_time'])['adjusted_price'].mean()\n",
    "plt.title('Evolution of Price and Adjusted price of houses of Airbnb in Boston', fontsize=20)\n",
    "plt.xticks(rotation=90)\n",
    "ax1.grid(True)\n",
    "ax1.plot(x,color=\"blue\")\n",
    "ax1.set_ylabel(r\"price\", fontsize=16, color=\"blue\")\n",
    "for label in ax1.get_yticklabels():\n",
    "    label.set_color(\"blue\")\n",
    "    \n",
    "ax2 = ax1.twinx()\n",
    "ax2.plot(y, color=\"orange\")\n",
    "ax2.set_ylabel(r\"adjusted_price\", fontsize=16, color=\"darkgreen\")\n",
    "for label in ax2.get_yticklabels():\n",
    "    label.set_color(\"darkgreen\")"
   ]
  },
  {
   "cell_type": "code",
   "execution_count": 24,
   "metadata": {},
   "outputs": [
    {
     "data": {
      "image/png": "[encoded data removed]",
      "text/plain": [
       "<Figure size 1080x432 with 2 Axes>"
      ]
     },
     "metadata": {},
     "output_type": "display_data"
    }
   ],
   "source": [
    "fig, ax1 = plt.subplots(figsize=(15,6))\n",
    "x = calender_boston.groupby(['year_month_time'])['price'].mean()\n",
    "y = calender_boston.groupby(['year_month_time'])['listing_id'].count()\n",
    "plt.title('Evolution of Price and Number of houses of Airbnb in Boston', fontsize=20)\n",
    "plt.xticks(rotation=90)\n",
    "ax1.grid(True)\n",
    "ax1.plot(x,color=\"blue\", linewidth=3)\n",
    "ax1.set_ylabel(r\"price\", fontsize=16, color=\"blue\")\n",
    "for label in ax1.get_yticklabels():\n",
    "    label.set_color(\"blue\")\n",
    "    \n",
    "ax2 = ax1.twinx()\n",
    "ax2.plot(y, color=\"darkgreen\", linewidth=3)\n",
    "ax2.set_ylabel(r\"Number of houses\", fontsize=16, color=\"darkgreen\")\n",
    "for label in ax2.get_yticklabels():\n",
    "    label.set_color(\"darkgreen\")"
   ]
  },
  {
   "cell_type": "markdown",
   "metadata": {},
   "source": [
    "#### As we can see from this graph the price of Boston airbnb has been boosted from February 2019 to May of 2019 while the numbers of houses have been increased massively from Feb 2019 to March 2019. From May of 2019 the house price and number will keep high until October of 2019, the price of these houses will have a dramatic drop until end of 2019, it will boost again from 2020. But the number of house might decrease because of the drop of price."
   ]
  },
  {
   "cell_type": "markdown",
   "metadata": {},
   "source": [
    "### Create a function to put all the previous clean process in it."
   ]
  },
  {
   "cell_type": "code",
   "execution_count": 26,
   "metadata": {},
   "outputs": [],
   "source": [
    "#Create a function to put all the actions I did before to clean the data.\n",
    "\n",
    "def clean_data_calender(df):\n",
    "    '''Output of this function is a clean data after applying for all the data cleanning process.\n",
    "    \n",
    "    Input: \n",
    "    1.change the data data to a better format.\n",
    "    2.Remove the currency unit \"$\" from all the money columns.\n",
    "    3.Convert the columns into numeric\n",
    "    4.Convert the \"id\" column into a string format for counting it.\n",
    "    '''\n",
    "    \n",
    "    # Change the data YYYY-MM-DD to YYYY-MM and convert it into datetime\n",
    "    df['year_month'] = df['date'] .apply(lambda x: datetime.strptime(x, '%Y-%m-%d').strftime(\"%Y-%m\"))\n",
    "    df['year_month_time'] = pd.to_datetime(df['year_month'])\n",
    "    \n",
    "    #Since we can see the format of \"price\" and \"adjusted_price\" start with \"$\", we should firstly remove it\n",
    "    df['price'] = df['price'].str.lstrip('$')\n",
    "    df['adjusted_price'] = df['adjusted_price'].str.lstrip('$')\n",
    "    #Now let's convert the string into float by removing \",\"\n",
    "    df['price'] = df['price'].str.replace(',','')\n",
    "    df['adjusted_price'] = df['adjusted_price'].str.replace(',','')\n",
    "    df['price'] = pd.to_numeric(df['price'])\n",
    "    df['adjusted_price'] = pd.to_numeric(df['adjusted_price'])\n",
    "    \n",
    "    # Convert the id into a string\n",
    "    df['listing_id'] = df['listing_id'].astype(str)\n",
    "    \n",
    "    new_data = df\n",
    "    return new_data"
   ]
  },
  {
   "cell_type": "markdown",
   "metadata": {},
   "source": [
    "### Access the data - Seattle airbnb Calender data"
   ]
  },
  {
   "cell_type": "code",
   "execution_count": 29,
   "metadata": {},
   "outputs": [],
   "source": [
    "calender_seattle = pd.read_csv('calendar_1.csv')"
   ]
  },
  {
   "cell_type": "markdown",
   "metadata": {},
   "source": [
    "### Clean the data -  Seattile airbnb calender data"
   ]
  },
  {
   "cell_type": "code",
   "execution_count": 30,
   "metadata": {},
   "outputs": [],
   "source": [
    "new_data = clean_data_calender(calender_seattle) "
   ]
  },
  {
   "cell_type": "markdown",
   "metadata": {},
   "source": [
    "### Analyze and visualize the data -  Seattile airbnb calender data"
   ]
  },
  {
   "cell_type": "code",
   "execution_count": 33,
   "metadata": {},
   "outputs": [
    {
     "data": {
      "image/png": "[encoded data removed]",
      "text/plain": [
       "<Figure size 1080x432 with 2 Axes>"
      ]
     },
     "metadata": {},
     "output_type": "display_data"
    }
   ],
   "source": [
    "fig, ax1 = plt.subplots(figsize=(15,6))\n",
    "x = new_data.groupby(['year_month_time'])['price'].mean()\n",
    "y = new_data.groupby(['year_month_time'])['listing_id'].count()\n",
    "plt.title('Evolution of Price and Number of houses of Airbnb in Seattle', fontsize=20)\n",
    "plt.xticks(rotation=90)\n",
    "ax1.grid(True)\n",
    "ax1.plot(x,color=\"blue\", linewidth=3)\n",
    "ax1.set_ylabel(r\"price\", fontsize=16, color=\"blue\")\n",
    "for label in ax1.get_yticklabels():\n",
    "    label.set_color(\"blue\")\n",
    "    \n",
    "ax2 = ax1.twinx()\n",
    "ax2.plot(y, color=\"darkgreen\", linewidth=3)\n",
    "ax2.set_ylabel(r\"Number of houses\", fontsize=16, color=\"darkgreen\")\n",
    "for label in ax2.get_yticklabels():\n",
    "    label.set_color(\"darkgreen\")"
   ]
  },
  {
   "cell_type": "markdown",
   "metadata": {},
   "source": [
    "## Seattle VS Boston\n",
    "\n",
    "#### As we can see from these 2 graphs of the evolution of the house price and number in Seattle and Boston. The trend of the numbers of house are the same. But you can see that the price has less impact on the number of the house in Seattle than Boston. The price of the house in Seattle has the peak at August 2019 because of the summer season, later it decreases. But the price in Boston keeps high from May to October. "
   ]
  },
  {
   "cell_type": "markdown",
   "metadata": {},
   "source": [
    "### Access the data -  Boston airbnb listing data"
   ]
  },
  {
   "cell_type": "code",
   "execution_count": 139,
   "metadata": {},
   "outputs": [
    {
     "data": {
      "text/html": [
       "<div>\n",
       "<style scoped>\n",
       "    .dataframe tbody tr th:only-of-type {\n",
       "        vertical-align: middle;\n",
       "    }\n",
       "\n",
       "    .dataframe tbody tr th {\n",
       "        vertical-align: top;\n",
       "    }\n",
       "\n",
       "    .dataframe thead th {\n",
       "        text-align: right;\n",
       "    }\n",
       "</style>\n",
       "<table border=\"1\" class=\"dataframe\">\n",
       "  <thead>\n",
       "    <tr style=\"text-align: right;\">\n",
       "      <th></th>\n",
       "      <th>id</th>\n",
       "      <th>listing_url</th>\n",
       "      <th>scrape_id</th>\n",
       "      <th>last_scraped</th>\n",
       "      <th>name</th>\n",
       "      <th>summary</th>\n",
       "      <th>space</th>\n",
       "      <th>description</th>\n",
       "      <th>experiences_offered</th>\n",
       "      <th>neighborhood_overview</th>\n",
       "      <th>...</th>\n",
       "      <th>instant_bookable</th>\n",
       "      <th>is_business_travel_ready</th>\n",
       "      <th>cancellation_policy</th>\n",
       "      <th>require_guest_profile_picture</th>\n",
       "      <th>require_guest_phone_verification</th>\n",
       "      <th>calculated_host_listings_count</th>\n",
       "      <th>calculated_host_listings_count_entire_homes</th>\n",
       "      <th>calculated_host_listings_count_private_rooms</th>\n",
       "      <th>calculated_host_listings_count_shared_rooms</th>\n",
       "      <th>reviews_per_month</th>\n",
       "    </tr>\n",
       "  </thead>\n",
       "  <tbody>\n",
       "    <tr>\n",
       "      <th>0</th>\n",
       "      <td>3781</td>\n",
       "      <td>https://www.airbnb.com/rooms/3781</td>\n",
       "      <td>20190209175027</td>\n",
       "      <td>2019-02-09</td>\n",
       "      <td>HARBORSIDE-Walk to subway</td>\n",
       "      <td>Fully separate apartment in a two apartment bu...</td>\n",
       "      <td>This is a totally separate apartment located o...</td>\n",
       "      <td>Fully separate apartment in a two apartment bu...</td>\n",
       "      <td>none</td>\n",
       "      <td>Mostly quiet ( no loud music, no crowed sidewa...</td>\n",
       "      <td>...</td>\n",
       "      <td>f</td>\n",
       "      <td>f</td>\n",
       "      <td>super_strict_30</td>\n",
       "      <td>f</td>\n",
       "      <td>f</td>\n",
       "      <td>1</td>\n",
       "      <td>1</td>\n",
       "      <td>0</td>\n",
       "      <td>0</td>\n",
       "      <td>0.32</td>\n",
       "    </tr>\n",
       "    <tr>\n",
       "      <th>1</th>\n",
       "      <td>5506</td>\n",
       "      <td>https://www.airbnb.com/rooms/5506</td>\n",
       "      <td>20190209175027</td>\n",
       "      <td>2019-02-09</td>\n",
       "      <td>**$79 Special **   Private! Minutes to center!</td>\n",
       "      <td>This is a private guest room with private bath...</td>\n",
       "      <td>**THE BEST Value in BOSTON!!*** PRIVATE GUEST ...</td>\n",
       "      <td>This is a private guest room with private bath...</td>\n",
       "      <td>none</td>\n",
       "      <td>Peacful, Architecturally interesting, historic...</td>\n",
       "      <td>...</td>\n",
       "      <td>t</td>\n",
       "      <td>f</td>\n",
       "      <td>strict_14_with_grace_period</td>\n",
       "      <td>f</td>\n",
       "      <td>f</td>\n",
       "      <td>6</td>\n",
       "      <td>6</td>\n",
       "      <td>0</td>\n",
       "      <td>0</td>\n",
       "      <td>0.66</td>\n",
       "    </tr>\n",
       "    <tr>\n",
       "      <th>2</th>\n",
       "      <td>6695</td>\n",
       "      <td>https://www.airbnb.com/rooms/6695</td>\n",
       "      <td>20190209175027</td>\n",
       "      <td>2019-02-09</td>\n",
       "      <td>$99 Special!! Home Away! Condo</td>\n",
       "      <td>NaN</td>\n",
       "      <td>** WELCOME *** FULL PRIVATE APARTMENT In a His...</td>\n",
       "      <td>** WELCOME *** FULL PRIVATE APARTMENT In a His...</td>\n",
       "      <td>none</td>\n",
       "      <td>Peaceful, Architecturally interesting, histori...</td>\n",
       "      <td>...</td>\n",
       "      <td>t</td>\n",
       "      <td>f</td>\n",
       "      <td>strict_14_with_grace_period</td>\n",
       "      <td>f</td>\n",
       "      <td>f</td>\n",
       "      <td>6</td>\n",
       "      <td>6</td>\n",
       "      <td>0</td>\n",
       "      <td>0</td>\n",
       "      <td>0.73</td>\n",
       "    </tr>\n",
       "    <tr>\n",
       "      <th>3</th>\n",
       "      <td>6976</td>\n",
       "      <td>https://www.airbnb.com/rooms/6976</td>\n",
       "      <td>20190209175027</td>\n",
       "      <td>2019-02-09</td>\n",
       "      <td>Mexican Folk Art Haven in Boston Residential Area</td>\n",
       "      <td>Come stay with me in Boston's Roslindale neigh...</td>\n",
       "      <td>This is a well-maintained, two-family house bu...</td>\n",
       "      <td>Come stay with me in Boston's Roslindale neigh...</td>\n",
       "      <td>none</td>\n",
       "      <td>The LOCATION: Roslindale is a safe and diverse...</td>\n",
       "      <td>...</td>\n",
       "      <td>f</td>\n",
       "      <td>f</td>\n",
       "      <td>moderate</td>\n",
       "      <td>t</td>\n",
       "      <td>f</td>\n",
       "      <td>1</td>\n",
       "      <td>0</td>\n",
       "      <td>1</td>\n",
       "      <td>0</td>\n",
       "      <td>0.64</td>\n",
       "    </tr>\n",
       "    <tr>\n",
       "      <th>4</th>\n",
       "      <td>8789</td>\n",
       "      <td>https://www.airbnb.com/rooms/8789</td>\n",
       "      <td>20190209175027</td>\n",
       "      <td>2019-02-09</td>\n",
       "      <td>Curved Glass Studio/1bd facing Park</td>\n",
       "      <td>Bright, 1 bed with curved glass windows facing...</td>\n",
       "      <td>Fully Furnished studio with enclosed bedroom. ...</td>\n",
       "      <td>Bright, 1 bed with curved glass windows facing...</td>\n",
       "      <td>none</td>\n",
       "      <td>Beacon Hill is a historic neighborhood filled ...</td>\n",
       "      <td>...</td>\n",
       "      <td>f</td>\n",
       "      <td>f</td>\n",
       "      <td>strict_14_with_grace_period</td>\n",
       "      <td>f</td>\n",
       "      <td>f</td>\n",
       "      <td>10</td>\n",
       "      <td>10</td>\n",
       "      <td>0</td>\n",
       "      <td>0</td>\n",
       "      <td>0.40</td>\n",
       "    </tr>\n",
       "  </tbody>\n",
       "</table>\n",
       "<p>5 rows × 106 columns</p>\n",
       "</div>"
      ],
      "text/plain": [
       "     id                        listing_url       scrape_id last_scraped  \\\n",
       "0  3781  https://www.airbnb.com/rooms/3781  20190209175027   2019-02-09   \n",
       "1  5506  https://www.airbnb.com/rooms/5506  20190209175027   2019-02-09   \n",
       "2  6695  https://www.airbnb.com/rooms/6695  20190209175027   2019-02-09   \n",
       "3  6976  https://www.airbnb.com/rooms/6976  20190209175027   2019-02-09   \n",
       "4  8789  https://www.airbnb.com/rooms/8789  20190209175027   2019-02-09   \n",
       "\n",
       "                                                name  \\\n",
       "0                          HARBORSIDE-Walk to subway   \n",
       "1     **$79 Special **   Private! Minutes to center!   \n",
       "2                     $99 Special!! Home Away! Condo   \n",
       "3  Mexican Folk Art Haven in Boston Residential Area   \n",
       "4                Curved Glass Studio/1bd facing Park   \n",
       "\n",
       "                                             summary  \\\n",
       "0  Fully separate apartment in a two apartment bu...   \n",
       "1  This is a private guest room with private bath...   \n",
       "2                                                NaN   \n",
       "3  Come stay with me in Boston's Roslindale neigh...   \n",
       "4  Bright, 1 bed with curved glass windows facing...   \n",
       "\n",
       "                                               space  \\\n",
       "0  This is a totally separate apartment located o...   \n",
       "1  **THE BEST Value in BOSTON!!*** PRIVATE GUEST ...   \n",
       "2  ** WELCOME *** FULL PRIVATE APARTMENT In a His...   \n",
       "3  This is a well-maintained, two-family house bu...   \n",
       "4  Fully Furnished studio with enclosed bedroom. ...   \n",
       "\n",
       "                                         description experiences_offered  \\\n",
       "0  Fully separate apartment in a two apartment bu...                none   \n",
       "1  This is a private guest room with private bath...                none   \n",
       "2  ** WELCOME *** FULL PRIVATE APARTMENT In a His...                none   \n",
       "3  Come stay with me in Boston's Roslindale neigh...                none   \n",
       "4  Bright, 1 bed with curved glass windows facing...                none   \n",
       "\n",
       "                               neighborhood_overview        ...          \\\n",
       "0  Mostly quiet ( no loud music, no crowed sidewa...        ...           \n",
       "1  Peacful, Architecturally interesting, historic...        ...           \n",
       "2  Peaceful, Architecturally interesting, histori...        ...           \n",
       "3  The LOCATION: Roslindale is a safe and diverse...        ...           \n",
       "4  Beacon Hill is a historic neighborhood filled ...        ...           \n",
       "\n",
       "  instant_bookable is_business_travel_ready          cancellation_policy  \\\n",
       "0                f                        f              super_strict_30   \n",
       "1                t                        f  strict_14_with_grace_period   \n",
       "2                t                        f  strict_14_with_grace_period   \n",
       "3                f                        f                     moderate   \n",
       "4                f                        f  strict_14_with_grace_period   \n",
       "\n",
       "  require_guest_profile_picture require_guest_phone_verification  \\\n",
       "0                             f                                f   \n",
       "1                             f                                f   \n",
       "2                             f                                f   \n",
       "3                             t                                f   \n",
       "4                             f                                f   \n",
       "\n",
       "   calculated_host_listings_count  \\\n",
       "0                               1   \n",
       "1                               6   \n",
       "2                               6   \n",
       "3                               1   \n",
       "4                              10   \n",
       "\n",
       "   calculated_host_listings_count_entire_homes  \\\n",
       "0                                            1   \n",
       "1                                            6   \n",
       "2                                            6   \n",
       "3                                            0   \n",
       "4                                           10   \n",
       "\n",
       "  calculated_host_listings_count_private_rooms  \\\n",
       "0                                            0   \n",
       "1                                            0   \n",
       "2                                            0   \n",
       "3                                            1   \n",
       "4                                            0   \n",
       "\n",
       "   calculated_host_listings_count_shared_rooms  reviews_per_month  \n",
       "0                                            0               0.32  \n",
       "1                                            0               0.66  \n",
       "2                                            0               0.73  \n",
       "3                                            0               0.64  \n",
       "4                                            0               0.40  \n",
       "\n",
       "[5 rows x 106 columns]"
      ]
     },
     "execution_count": 139,
     "metadata": {},
     "output_type": "execute_result"
    }
   ],
   "source": [
    "#Now lets look at another dataframe\n",
    "listing_boston = pd.read_csv('listings.csv')\n",
    "listing_boston.head()"
   ]
  },
  {
   "cell_type": "code",
   "execution_count": 140,
   "metadata": {},
   "outputs": [
    {
     "name": "stdout",
     "output_type": "stream",
     "text": [
      "<class 'pandas.core.frame.DataFrame'>\n",
      "RangeIndex: 6155 entries, 0 to 6154\n",
      "Columns: 106 entries, id to reviews_per_month\n",
      "dtypes: float64(25), int64(21), object(60)\n",
      "memory usage: 5.0+ MB\n"
     ]
    }
   ],
   "source": [
    "listing_boston.info()"
   ]
  },
  {
   "cell_type": "markdown",
   "metadata": {},
   "source": [
    "### Clean the data"
   ]
  },
  {
   "cell_type": "code",
   "execution_count": 141,
   "metadata": {},
   "outputs": [
    {
     "data": {
      "text/plain": [
       "95892"
      ]
     },
     "execution_count": 141,
     "metadata": {},
     "output_type": "execute_result"
    }
   ],
   "source": [
    "#I am interested in knowing how much columns with missing value\n",
    "sum(listing_boston.isnull().sum())"
   ]
  },
  {
   "cell_type": "code",
   "execution_count": 142,
   "metadata": {
    "scrolled": false
   },
   "outputs": [
    {
     "data": {
      "text/plain": [
       "<matplotlib.axes._subplots.AxesSubplot at 0x22fbd81c7b8>"
      ]
     },
     "execution_count": 142,
     "metadata": {},
     "output_type": "execute_result"
    },
    {
     "data": {
      "image/png": "[encoded data removed]",
      "text/plain": [
       "<Figure size 1080x720 with 1 Axes>"
      ]
     },
     "metadata": {
      "needs_background": "light"
     },
     "output_type": "display_data"
    }
   ],
   "source": [
    "#I am interested in looking at what is the porcentage of these missing value columns, which has the most missing value.\n",
    "missing_percentage = listing_boston.isnull().sum()/listing_boston.shape[0]\n",
    "missing_percentage_plot = missing_percentage.sort_values(ascending=True)\n",
    "missing_percentage_plot.plot.bar(figsize=(15,10), grid=True)"
   ]
  },
  {
   "cell_type": "code",
   "execution_count": 143,
   "metadata": {
    "scrolled": true
   },
   "outputs": [
    {
     "data": {
      "text/plain": [
       "['thumbnail_url',\n",
       " 'medium_url',\n",
       " 'xl_picture_url',\n",
       " 'host_acceptance_rate',\n",
       " 'neighbourhood_group_cleansed',\n",
       " 'square_feet',\n",
       " 'weekly_price',\n",
       " 'monthly_price',\n",
       " 'license',\n",
       " 'jurisdiction_names']"
      ]
     },
     "execution_count": 143,
     "metadata": {},
     "output_type": "execute_result"
    }
   ],
   "source": [
    "#There are several columns have the very high percentage of the missing value, more than 80%, it might be better drop it, \n",
    "#with so many missing value, it might not affect on the price prediction.\n",
    "drop_selected_columns = [col for col in listing_boston.columns if (listing_boston[col].isnull().sum()/\n",
    "                                                                   listing_boston.shape[0]>0.8)]\n",
    "drop_selected_columns"
   ]
  },
  {
   "cell_type": "code",
   "execution_count": 144,
   "metadata": {},
   "outputs": [],
   "source": [
    "# Remove the outlier columns from the dataset\n",
    "for col in drop_selected_columns:\n",
    "    listing_boston.drop(col, axis=1, inplace=True)"
   ]
  },
  {
   "cell_type": "code",
   "execution_count": 145,
   "metadata": {},
   "outputs": [
    {
     "data": {
      "text/plain": [
       "(6155, 96)"
      ]
     },
     "execution_count": 145,
     "metadata": {},
     "output_type": "execute_result"
    }
   ],
   "source": [
    "listing_boston.shape"
   ]
  },
  {
   "cell_type": "markdown",
   "metadata": {},
   "source": [
    "I have removed the columns which contains more than 80% of missing data, for having a tidy data, we also need to clean the rows."
   ]
  },
  {
   "cell_type": "code",
   "execution_count": 146,
   "metadata": {},
   "outputs": [
    {
     "data": {
      "text/plain": [
       "35496"
      ]
     },
     "execution_count": 146,
     "metadata": {},
     "output_type": "execute_result"
    }
   ],
   "source": [
    "#Now lets see how much data is missing in each row of the dataset?\n",
    "sum(listing_boston.isnull().sum(axis=1))"
   ]
  },
  {
   "cell_type": "code",
   "execution_count": 147,
   "metadata": {},
   "outputs": [
    {
     "data": {
      "text/plain": [
       "<matplotlib.axes._subplots.AxesSubplot at 0x22f19f875c0>"
      ]
     },
     "execution_count": 147,
     "metadata": {},
     "output_type": "execute_result"
    },
    {
     "data": {
      "image/png": "[encoded data removed]",
      "text/plain": [
       "<Figure size 432x288 with 1 Axes>"
      ]
     },
     "metadata": {
      "needs_background": "light"
     },
     "output_type": "display_data"
    }
   ],
   "source": [
    "#Plot the distribution of rows with missing data.\n",
    "listing_boston.isnull().sum(axis=1).hist(bins = 20)"
   ]
  },
  {
   "cell_type": "markdown",
   "metadata": {},
   "source": [
    "As we can see in the graph, most of the rows do not have any missing data. But there are still some rows have more than 20 missing datas. Remember after removing more than 80% missing data columns we still have 96 columns, the rows with more than 20 missing data means they have more than 20% missing data. We might need to do something with it, we can either drop them or fill them with the mode number."
   ]
  },
  {
   "cell_type": "code",
   "execution_count": 148,
   "metadata": {},
   "outputs": [
    {
     "data": {
      "text/plain": [
       "150"
      ]
     },
     "execution_count": 148,
     "metadata": {},
     "output_type": "execute_result"
    }
   ],
   "source": [
    "#Lets count how many rows with more than 25 missing value\n",
    "sum(listing_boston.isnull().sum(axis=1) > 20)"
   ]
  },
  {
   "cell_type": "code",
   "execution_count": 149,
   "metadata": {},
   "outputs": [
    {
     "data": {
      "text/plain": [
       "0.024370430544272948"
      ]
     },
     "execution_count": 149,
     "metadata": {},
     "output_type": "execute_result"
    }
   ],
   "source": [
    "sum(listing_boston.isnull().sum(axis=1) > 20)/listing_boston.shape[0]"
   ]
  },
  {
   "cell_type": "markdown",
   "metadata": {},
   "source": [
    "As we can see the rows with more than 25 missing vale are actually only occuppies 2% of the whole rows, it does not matter much if we keep them. If I don't drop them then I need to fill them."
   ]
  },
  {
   "cell_type": "code",
   "execution_count": 150,
   "metadata": {},
   "outputs": [
    {
     "data": {
      "text/plain": [
       "object     58\n",
       "int64      21\n",
       "float64    17\n",
       "dtype: int64"
      ]
     },
     "execution_count": 150,
     "metadata": {},
     "output_type": "execute_result"
    }
   ],
   "source": [
    "#Count each datatype.\n",
    "listing_boston.dtypes.value_counts()"
   ]
  },
  {
   "cell_type": "code",
   "execution_count": 151,
   "metadata": {
    "scrolled": true
   },
   "outputs": [
    {
     "data": {
      "text/plain": [
       "last_scraped                           1\n",
       "is_business_travel_ready               1\n",
       "requires_license                       1\n",
       "experiences_offered                    1\n",
       "calendar_last_scraped                  1\n",
       "has_availability                       1\n",
       "state                                  1\n",
       "country_code                           1\n",
       "country                                1\n",
       "require_guest_phone_verification       2\n",
       "require_guest_profile_picture          2\n",
       "host_is_superhost                      2\n",
       "market                                 2\n",
       "is_location_exact                      2\n",
       "instant_bookable                       2\n",
       "host_identity_verified                 2\n",
       "host_has_profile_pic                   2\n",
       "room_type                              3\n",
       "host_response_time                     4\n",
       "bed_type                               5\n",
       "cancellation_policy                    6\n",
       "property_type                         21\n",
       "neighbourhood_cleansed                25\n",
       "neighbourhood                         29\n",
       "city                                  37\n",
       "smart_location                        39\n",
       "street                                39\n",
       "zipcode                               41\n",
       "host_response_rate                    43\n",
       "extra_people                          50\n",
       "host_neighbourhood                    60\n",
       "security_deposit                      63\n",
       "calendar_updated                      68\n",
       "cleaning_fee                         148\n",
       "host_verifications                   202\n",
       "host_location                        236\n",
       "price                                398\n",
       "last_review                          757\n",
       "first_review                        1543\n",
       "host_name                           1575\n",
       "host_about                          1596\n",
       "host_since                          1712\n",
       "notes                               2235\n",
       "interaction                         2357\n",
       "neighborhood_overview               2563\n",
       "access                              2569\n",
       "house_rules                         2642\n",
       "transit                             2765\n",
       "host_thumbnail_url                  2778\n",
       "host_picture_url                    2778\n",
       "host_url                            2784\n",
       "space                               3495\n",
       "summary                             4888\n",
       "amenities                           4980\n",
       "description                         5311\n",
       "name                                5901\n",
       "picture_url                         6000\n",
       "listing_url                         6155\n",
       "dtype: int64"
      ]
     },
     "execution_count": 151,
     "metadata": {},
     "output_type": "execute_result"
    }
   ],
   "source": [
    "#Let's check these columns see how many unique value are in each value.\n",
    "listing_boston.select_dtypes(include=['object']).nunique().sort_values()"
   ]
  },
  {
   "cell_type": "code",
   "execution_count": 152,
   "metadata": {},
   "outputs": [
    {
     "data": {
      "text/plain": [
       "0    {TV,\"Cable TV\",Wifi,\"Air conditioning\",Kitchen...\n",
       "1    {TV,\"Cable TV\",Internet,Wifi,\"Air conditioning...\n",
       "2    {TV,\"Cable TV\",Internet,Wifi,\"Air conditioning...\n",
       "3    {TV,\"Cable TV\",Wifi,\"Air conditioning\",Kitchen...\n",
       "4    {TV,\"Cable TV\",Internet,Wifi,\"Air conditioning...\n",
       "Name: amenities, dtype: object"
      ]
     },
     "execution_count": 152,
     "metadata": {},
     "output_type": "execute_result"
    }
   ],
   "source": [
    "listing_boston.amenities.head()"
   ]
  },
  {
   "cell_type": "code",
   "execution_count": 153,
   "metadata": {},
   "outputs": [
    {
     "name": "stdout",
     "output_type": "stream",
     "text": [
      "There are 121 amenities in total.\n"
     ]
    }
   ],
   "source": [
    "amenities = listing_boston['amenities'].map(lambda d: [amenity.replace('\"', \"\").replace(\"{\", \"\").\n",
    "                                           replace(\"}\", \"\") for amenity in d.split(\",\")])\n",
    "\n",
    "listing_boston['amenities'] = amenities\n",
    "possible_amenities = set([item for sublist in amenities for item in sublist])\n",
    "possible_amenities = list(possible_amenities)\n",
    "del possible_amenities[1]\n",
    "print(\"There are {} amenities in total.\".format(len(possible_amenities)))"
   ]
  },
  {
   "cell_type": "code",
   "execution_count": 154,
   "metadata": {},
   "outputs": [],
   "source": [
    "mlb = MultiLabelBinarizer()\n",
    "amenities_result = pd.DataFrame(mlb.fit_transform(listing_boston['amenities']),\n",
    "                                columns=mlb.classes_, index=listing_boston.index)"
   ]
  },
  {
   "cell_type": "code",
   "execution_count": 155,
   "metadata": {},
   "outputs": [],
   "source": [
    "listing_boston = pd.concat([listing_boston, amenities_result], axis=1, sort = False)\n",
    "listing_boston.drop(['amenities'], axis = 1, inplace = True)"
   ]
  },
  {
   "cell_type": "code",
   "execution_count": 156,
   "metadata": {},
   "outputs": [
    {
     "data": {
      "text/html": [
       "<div>\n",
       "<style scoped>\n",
       "    .dataframe tbody tr th:only-of-type {\n",
       "        vertical-align: middle;\n",
       "    }\n",
       "\n",
       "    .dataframe tbody tr th {\n",
       "        vertical-align: top;\n",
       "    }\n",
       "\n",
       "    .dataframe thead th {\n",
       "        text-align: right;\n",
       "    }\n",
       "</style>\n",
       "<table border=\"1\" class=\"dataframe\">\n",
       "  <thead>\n",
       "    <tr style=\"text-align: right;\">\n",
       "      <th></th>\n",
       "      <th>id</th>\n",
       "      <th>listing_url</th>\n",
       "      <th>scrape_id</th>\n",
       "      <th>last_scraped</th>\n",
       "      <th>name</th>\n",
       "      <th>summary</th>\n",
       "      <th>space</th>\n",
       "      <th>description</th>\n",
       "      <th>experiences_offered</th>\n",
       "      <th>neighborhood_overview</th>\n",
       "      <th>...</th>\n",
       "      <th>Wheelchair accessible</th>\n",
       "      <th>Wide clearance to bed</th>\n",
       "      <th>Wide clearance to shower</th>\n",
       "      <th>Wide doorway</th>\n",
       "      <th>Wide entryway</th>\n",
       "      <th>Wide hallway clearance</th>\n",
       "      <th>Wifi</th>\n",
       "      <th>Window guards</th>\n",
       "      <th>translation missing: en.hosting_amenity_49</th>\n",
       "      <th>translation missing: en.hosting_amenity_50</th>\n",
       "    </tr>\n",
       "  </thead>\n",
       "  <tbody>\n",
       "    <tr>\n",
       "      <th>0</th>\n",
       "      <td>3781</td>\n",
       "      <td>https://www.airbnb.com/rooms/3781</td>\n",
       "      <td>20190209175027</td>\n",
       "      <td>2019-02-09</td>\n",
       "      <td>HARBORSIDE-Walk to subway</td>\n",
       "      <td>Fully separate apartment in a two apartment bu...</td>\n",
       "      <td>This is a totally separate apartment located o...</td>\n",
       "      <td>Fully separate apartment in a two apartment bu...</td>\n",
       "      <td>none</td>\n",
       "      <td>Mostly quiet ( no loud music, no crowed sidewa...</td>\n",
       "      <td>...</td>\n",
       "      <td>0</td>\n",
       "      <td>0</td>\n",
       "      <td>0</td>\n",
       "      <td>0</td>\n",
       "      <td>0</td>\n",
       "      <td>0</td>\n",
       "      <td>1</td>\n",
       "      <td>0</td>\n",
       "      <td>1</td>\n",
       "      <td>1</td>\n",
       "    </tr>\n",
       "    <tr>\n",
       "      <th>1</th>\n",
       "      <td>5506</td>\n",
       "      <td>https://www.airbnb.com/rooms/5506</td>\n",
       "      <td>20190209175027</td>\n",
       "      <td>2019-02-09</td>\n",
       "      <td>**$79 Special **   Private! Minutes to center!</td>\n",
       "      <td>This is a private guest room with private bath...</td>\n",
       "      <td>**THE BEST Value in BOSTON!!*** PRIVATE GUEST ...</td>\n",
       "      <td>This is a private guest room with private bath...</td>\n",
       "      <td>none</td>\n",
       "      <td>Peacful, Architecturally interesting, historic...</td>\n",
       "      <td>...</td>\n",
       "      <td>0</td>\n",
       "      <td>0</td>\n",
       "      <td>0</td>\n",
       "      <td>0</td>\n",
       "      <td>0</td>\n",
       "      <td>0</td>\n",
       "      <td>1</td>\n",
       "      <td>0</td>\n",
       "      <td>0</td>\n",
       "      <td>0</td>\n",
       "    </tr>\n",
       "    <tr>\n",
       "      <th>2</th>\n",
       "      <td>6695</td>\n",
       "      <td>https://www.airbnb.com/rooms/6695</td>\n",
       "      <td>20190209175027</td>\n",
       "      <td>2019-02-09</td>\n",
       "      <td>$99 Special!! Home Away! Condo</td>\n",
       "      <td>NaN</td>\n",
       "      <td>** WELCOME *** FULL PRIVATE APARTMENT In a His...</td>\n",
       "      <td>** WELCOME *** FULL PRIVATE APARTMENT In a His...</td>\n",
       "      <td>none</td>\n",
       "      <td>Peaceful, Architecturally interesting, histori...</td>\n",
       "      <td>...</td>\n",
       "      <td>0</td>\n",
       "      <td>0</td>\n",
       "      <td>0</td>\n",
       "      <td>0</td>\n",
       "      <td>0</td>\n",
       "      <td>0</td>\n",
       "      <td>1</td>\n",
       "      <td>0</td>\n",
       "      <td>0</td>\n",
       "      <td>0</td>\n",
       "    </tr>\n",
       "    <tr>\n",
       "      <th>3</th>\n",
       "      <td>6976</td>\n",
       "      <td>https://www.airbnb.com/rooms/6976</td>\n",
       "      <td>20190209175027</td>\n",
       "      <td>2019-02-09</td>\n",
       "      <td>Mexican Folk Art Haven in Boston Residential Area</td>\n",
       "      <td>Come stay with me in Boston's Roslindale neigh...</td>\n",
       "      <td>This is a well-maintained, two-family house bu...</td>\n",
       "      <td>Come stay with me in Boston's Roslindale neigh...</td>\n",
       "      <td>none</td>\n",
       "      <td>The LOCATION: Roslindale is a safe and diverse...</td>\n",
       "      <td>...</td>\n",
       "      <td>0</td>\n",
       "      <td>0</td>\n",
       "      <td>0</td>\n",
       "      <td>0</td>\n",
       "      <td>0</td>\n",
       "      <td>0</td>\n",
       "      <td>1</td>\n",
       "      <td>0</td>\n",
       "      <td>1</td>\n",
       "      <td>1</td>\n",
       "    </tr>\n",
       "    <tr>\n",
       "      <th>4</th>\n",
       "      <td>8789</td>\n",
       "      <td>https://www.airbnb.com/rooms/8789</td>\n",
       "      <td>20190209175027</td>\n",
       "      <td>2019-02-09</td>\n",
       "      <td>Curved Glass Studio/1bd facing Park</td>\n",
       "      <td>Bright, 1 bed with curved glass windows facing...</td>\n",
       "      <td>Fully Furnished studio with enclosed bedroom. ...</td>\n",
       "      <td>Bright, 1 bed with curved glass windows facing...</td>\n",
       "      <td>none</td>\n",
       "      <td>Beacon Hill is a historic neighborhood filled ...</td>\n",
       "      <td>...</td>\n",
       "      <td>0</td>\n",
       "      <td>0</td>\n",
       "      <td>0</td>\n",
       "      <td>0</td>\n",
       "      <td>0</td>\n",
       "      <td>0</td>\n",
       "      <td>1</td>\n",
       "      <td>0</td>\n",
       "      <td>0</td>\n",
       "      <td>0</td>\n",
       "    </tr>\n",
       "  </tbody>\n",
       "</table>\n",
       "<p>5 rows × 217 columns</p>\n",
       "</div>"
      ],
      "text/plain": [
       "     id                        listing_url       scrape_id last_scraped  \\\n",
       "0  3781  https://www.airbnb.com/rooms/3781  20190209175027   2019-02-09   \n",
       "1  5506  https://www.airbnb.com/rooms/5506  20190209175027   2019-02-09   \n",
       "2  6695  https://www.airbnb.com/rooms/6695  20190209175027   2019-02-09   \n",
       "3  6976  https://www.airbnb.com/rooms/6976  20190209175027   2019-02-09   \n",
       "4  8789  https://www.airbnb.com/rooms/8789  20190209175027   2019-02-09   \n",
       "\n",
       "                                                name  \\\n",
       "0                          HARBORSIDE-Walk to subway   \n",
       "1     **$79 Special **   Private! Minutes to center!   \n",
       "2                     $99 Special!! Home Away! Condo   \n",
       "3  Mexican Folk Art Haven in Boston Residential Area   \n",
       "4                Curved Glass Studio/1bd facing Park   \n",
       "\n",
       "                                             summary  \\\n",
       "0  Fully separate apartment in a two apartment bu...   \n",
       "1  This is a private guest room with private bath...   \n",
       "2                                                NaN   \n",
       "3  Come stay with me in Boston's Roslindale neigh...   \n",
       "4  Bright, 1 bed with curved glass windows facing...   \n",
       "\n",
       "                                               space  \\\n",
       "0  This is a totally separate apartment located o...   \n",
       "1  **THE BEST Value in BOSTON!!*** PRIVATE GUEST ...   \n",
       "2  ** WELCOME *** FULL PRIVATE APARTMENT In a His...   \n",
       "3  This is a well-maintained, two-family house bu...   \n",
       "4  Fully Furnished studio with enclosed bedroom. ...   \n",
       "\n",
       "                                         description experiences_offered  \\\n",
       "0  Fully separate apartment in a two apartment bu...                none   \n",
       "1  This is a private guest room with private bath...                none   \n",
       "2  ** WELCOME *** FULL PRIVATE APARTMENT In a His...                none   \n",
       "3  Come stay with me in Boston's Roslindale neigh...                none   \n",
       "4  Bright, 1 bed with curved glass windows facing...                none   \n",
       "\n",
       "                               neighborhood_overview  \\\n",
       "0  Mostly quiet ( no loud music, no crowed sidewa...   \n",
       "1  Peacful, Architecturally interesting, historic...   \n",
       "2  Peaceful, Architecturally interesting, histori...   \n",
       "3  The LOCATION: Roslindale is a safe and diverse...   \n",
       "4  Beacon Hill is a historic neighborhood filled ...   \n",
       "\n",
       "                     ...                     Wheelchair accessible  \\\n",
       "0                    ...                                         0   \n",
       "1                    ...                                         0   \n",
       "2                    ...                                         0   \n",
       "3                    ...                                         0   \n",
       "4                    ...                                         0   \n",
       "\n",
       "  Wide clearance to bed Wide clearance to shower Wide doorway Wide entryway  \\\n",
       "0                     0                        0            0             0   \n",
       "1                     0                        0            0             0   \n",
       "2                     0                        0            0             0   \n",
       "3                     0                        0            0             0   \n",
       "4                     0                        0            0             0   \n",
       "\n",
       "  Wide hallway clearance  Wifi Window guards  \\\n",
       "0                      0     1             0   \n",
       "1                      0     1             0   \n",
       "2                      0     1             0   \n",
       "3                      0     1             0   \n",
       "4                      0     1             0   \n",
       "\n",
       "  translation missing: en.hosting_amenity_49  \\\n",
       "0                                          1   \n",
       "1                                          0   \n",
       "2                                          0   \n",
       "3                                          1   \n",
       "4                                          0   \n",
       "\n",
       "  translation missing: en.hosting_amenity_50  \n",
       "0                                          1  \n",
       "1                                          0  \n",
       "2                                          0  \n",
       "3                                          1  \n",
       "4                                          0  \n",
       "\n",
       "[5 rows x 217 columns]"
      ]
     },
     "execution_count": 156,
     "metadata": {},
     "output_type": "execute_result"
    }
   ],
   "source": [
    "listing_boston.head()"
   ]
  },
  {
   "cell_type": "markdown",
   "metadata": {},
   "source": [
    "From here we can see some columns we can drop, the columns with only one unique value, and the columns with many different values. "
   ]
  },
  {
   "cell_type": "code",
   "execution_count": 157,
   "metadata": {},
   "outputs": [],
   "source": [
    "#lets put the this in a dataframe to use better later.\n",
    "unique_value = listing_boston.select_dtypes(include=['object']).nunique()"
   ]
  },
  {
   "cell_type": "code",
   "execution_count": 158,
   "metadata": {},
   "outputs": [],
   "source": [
    "#Choose the unique value is 1 and more than 1000 then put them into 2 different dataframes to drop it later.\n",
    "unique_value_is_1 = unique_value[unique_value==1].index\n",
    "unique_value_more_than1000 = unique_value[unique_value > 1000].index & unique_value[unique_value < 4900].index"
   ]
  },
  {
   "cell_type": "code",
   "execution_count": 159,
   "metadata": {},
   "outputs": [],
   "source": [
    "#Now drop the ones with unique value equal to 1 and more than 1000\n",
    "listing_boston = listing_boston.drop(columns =unique_value_is_1,axis=1)\n",
    "listing_boston = listing_boston.drop(columns =unique_value_more_than1000,axis=1)"
   ]
  },
  {
   "cell_type": "code",
   "execution_count": 160,
   "metadata": {},
   "outputs": [
    {
     "data": {
      "text/plain": [
       "require_guest_phone_verification       2\n",
       "host_identity_verified                 2\n",
       "host_has_profile_pic                   2\n",
       "require_guest_profile_picture          2\n",
       "host_is_superhost                      2\n",
       "is_location_exact                      2\n",
       "instant_bookable                       2\n",
       "market                                 2\n",
       "room_type                              3\n",
       "host_response_time                     4\n",
       "bed_type                               5\n",
       "cancellation_policy                    6\n",
       "property_type                         21\n",
       "neighbourhood_cleansed                25\n",
       "neighbourhood                         29\n",
       "city                                  37\n",
       "smart_location                        39\n",
       "street                                39\n",
       "zipcode                               41\n",
       "host_response_rate                    43\n",
       "extra_people                          50\n",
       "host_neighbourhood                    60\n",
       "security_deposit                      63\n",
       "calendar_updated                      68\n",
       "cleaning_fee                         148\n",
       "host_verifications                   202\n",
       "host_location                        236\n",
       "price                                398\n",
       "last_review                          757\n",
       "description                         5311\n",
       "name                                5901\n",
       "picture_url                         6000\n",
       "listing_url                         6155\n",
       "dtype: int64"
      ]
     },
     "execution_count": 160,
     "metadata": {},
     "output_type": "execute_result"
    }
   ],
   "source": [
    "#Check the result\n",
    "listing_boston.select_dtypes(include=['object']).nunique().sort_values()"
   ]
  },
  {
   "cell_type": "markdown",
   "metadata": {},
   "source": [
    "Alright, now we get a bit cleaner the dataset, but we still need to drop more these items which are not useful for our model. Speciall drop the ones with a lot of different unique value in it, also the ones might be not related to the house.\n",
    "\n",
    "Some items I think might not related to the price are:\n",
    "\n",
    "**description, name, picture_url,listing_url:** Non sense to keep them.\n",
    "\n",
    "**Last_review:** is the date that updated the last information.\n",
    "\n",
    "**host_location:** where does the landloard live, i think people will not care about this when they rent a flat.\n",
    "\n",
    "**host_verifications:** also something related with the landloard, but there is one 'host_identity_verified' similar to this, but that one will be more useful than this one.\n",
    "\n",
    "**calender_updated:** the calender when the landloard updated the info.\n",
    "\n",
    "**host_neighbourhood:** there are another 2 items similar to this one 'neighbourhood_cleansed' and 'neighbourhood'. We might only choose one is enough.\n",
    "\n",
    "**smart_location:** is the same as city.\n",
    "\n",
    "**neighbourhood_cleansed:** cannot find the meaning of this item, but we can use'neighbourhood' instead of this one.\n",
    "\n",
    "**street:** is actually city and country, is not the street address.\n",
    "\n",
    "**Zipcode:** I will not include this in."
   ]
  },
  {
   "cell_type": "code",
   "execution_count": 161,
   "metadata": {},
   "outputs": [],
   "source": [
    "to_drop = ['last_review', 'host_location','host_verifications','calendar_updated','host_neighbourhood',\n",
    "           'smart_location','neighbourhood_cleansed', 'street','zipcode','description', 'name', \n",
    "           'picture_url','listing_url']\n",
    "\n",
    "listing_boston = listing_boston.drop(columns =to_drop,axis=1)"
   ]
  },
  {
   "cell_type": "code",
   "execution_count": 162,
   "metadata": {
    "scrolled": true
   },
   "outputs": [
    {
     "data": {
      "text/plain": [
       "require_guest_phone_verification      2\n",
       "instant_bookable                      2\n",
       "host_is_superhost                     2\n",
       "host_has_profile_pic                  2\n",
       "host_identity_verified                2\n",
       "require_guest_profile_picture         2\n",
       "market                                2\n",
       "is_location_exact                     2\n",
       "room_type                             3\n",
       "host_response_time                    4\n",
       "bed_type                              5\n",
       "cancellation_policy                   6\n",
       "property_type                        21\n",
       "neighbourhood                        29\n",
       "city                                 37\n",
       "host_response_rate                   43\n",
       "extra_people                         50\n",
       "security_deposit                     63\n",
       "cleaning_fee                        148\n",
       "price                               398\n",
       "dtype: int64"
      ]
     },
     "execution_count": 162,
     "metadata": {},
     "output_type": "execute_result"
    }
   ],
   "source": [
    "listing_boston.select_dtypes(include=['object']).nunique().sort_values()"
   ]
  },
  {
   "cell_type": "markdown",
   "metadata": {},
   "source": [
    "Now is much cleaner, but obviously there are some items should not be in a string format, \"price\", \"monthly_price\", \"weekly_price\", \"cleaning_fee\", \"security_deposit\", \"host_response_rate\", \"extra_people\", they should all be in numeric. Lets do this transformation."
   ]
  },
  {
   "cell_type": "code",
   "execution_count": 163,
   "metadata": {},
   "outputs": [],
   "source": [
    "#Since we can see the format of \"price\" and \"adjusted_price\" start with \"$\", we should firstly remove it\n",
    "listing_boston['price'] = listing_boston['price'].str.lstrip('$')\n",
    "listing_boston['cleaning_fee'] = listing_boston['cleaning_fee'].str.lstrip('$')\n",
    "listing_boston['security_deposit'] = listing_boston['security_deposit'].str.lstrip('$')\n",
    "listing_boston['extra_people'] = listing_boston['extra_people'].str.lstrip('$')\n",
    "#Now let's convert the string into float by removing \",\"\n",
    "listing_boston['price'] = listing_boston['price'].str.replace(',','')\n",
    "listing_boston['cleaning_fee'] = listing_boston['cleaning_fee'].str.replace(',','')\n",
    "listing_boston['security_deposit'] = listing_boston['security_deposit'].str.replace(',','')\n",
    "listing_boston['extra_people'] = listing_boston['extra_people'].str.replace(',','')\n",
    "listing_boston['price'] = pd.to_numeric(listing_boston['price'])\n",
    "listing_boston['cleaning_fee'] = pd.to_numeric(listing_boston['cleaning_fee'])\n",
    "listing_boston['security_deposit'] = pd.to_numeric(listing_boston['security_deposit'])\n",
    "listing_boston['extra_people'] = pd.to_numeric(listing_boston['extra_people'])"
   ]
  },
  {
   "cell_type": "code",
   "execution_count": 164,
   "metadata": {},
   "outputs": [
    {
     "data": {
      "text/plain": [
       "0    100%\n",
       "1    100%\n",
       "2    100%\n",
       "3     NaN\n",
       "4     93%\n",
       "Name: host_response_rate, dtype: object"
      ]
     },
     "execution_count": 164,
     "metadata": {},
     "output_type": "execute_result"
    }
   ],
   "source": [
    "#lets check the \"host_response_rate\" column\n",
    "listing_boston.host_response_rate.head()"
   ]
  },
  {
   "cell_type": "code",
   "execution_count": 165,
   "metadata": {},
   "outputs": [],
   "source": [
    "#Lets remove the % in the \"host_response_rate\" and convert this column into number.\n",
    "listing_boston['host_response_rate'] = listing_boston['host_response_rate'].str.rstrip('%')\n",
    "listing_boston['host_response_rate'] = pd.to_numeric(listing_boston['host_response_rate'])"
   ]
  },
  {
   "cell_type": "code",
   "execution_count": 166,
   "metadata": {},
   "outputs": [
    {
     "data": {
      "text/plain": [
       "Boston                    5979\n",
       "Roxbury Crossing            21\n",
       "Dorchester                  19\n",
       "Jamaica Plain               15\n",
       "Dorchester                  15\n",
       "Charlestown                 14\n",
       "Brighton                    11\n",
       "East Boston                  8\n",
       "Brookline                    7\n",
       "Somerville                   7\n",
       "West Roxbury                 6\n",
       "Allston                      5\n",
       "ROXBURY CROSSING             5\n",
       "Cambridge                    4\n",
       "Roslindale                   4\n",
       "Boston                       4\n",
       "波士顿                          3\n",
       "Roxbury                      2\n",
       "Hyde Park                    2\n",
       "Dorchster                    2\n",
       "boston                       1\n",
       "Boston (Charlestown)         1\n",
       "South Boston                 1\n",
       "Jamaica Plain (Boston)       1\n",
       "Dedham                       1\n",
       "Mattapan                     1\n",
       "Roslindale, Boston           1\n",
       "Boston (Jamaica Plain)       1\n",
       "ALLSTON                      1\n",
       "Dorchester Center            1\n",
       "Jamaica Plain, Boston        1\n",
       "Jamaica Plain                1\n",
       "Boston,                      1\n",
       "Lexington                    1\n",
       "Everett                      1\n",
       "east Boston                  1\n",
       "Jamaica plain                1\n",
       "Name: city, dtype: int64"
      ]
     },
     "execution_count": 166,
     "metadata": {},
     "output_type": "execute_result"
    }
   ],
   "source": [
    "#Lets check the \"city\" column\n",
    "listing_boston.city.value_counts()"
   ]
  },
  {
   "cell_type": "markdown",
   "metadata": {},
   "source": [
    "You can see there is one Chinese word, it actually means \"Boston\", lets translate it into English."
   ]
  },
  {
   "cell_type": "code",
   "execution_count": 167,
   "metadata": {},
   "outputs": [],
   "source": [
    "listing_boston.city = listing_boston.city.str.replace('波士顿', 'Boston')"
   ]
  },
  {
   "cell_type": "code",
   "execution_count": 168,
   "metadata": {},
   "outputs": [
    {
     "data": {
      "text/plain": [
       "Boston                    5982\n",
       "Roxbury Crossing            21\n",
       "Dorchester                  19\n",
       "Jamaica Plain               15\n",
       "Dorchester                  15\n",
       "Charlestown                 14\n",
       "Brighton                    11\n",
       "East Boston                  8\n",
       "Brookline                    7\n",
       "Somerville                   7\n",
       "West Roxbury                 6\n",
       "Allston                      5\n",
       "ROXBURY CROSSING             5\n",
       "Roslindale                   4\n",
       "Cambridge                    4\n",
       "Boston                       4\n",
       "Roxbury                      2\n",
       "Hyde Park                    2\n",
       "Dorchster                    2\n",
       "Roslindale, Boston           1\n",
       "South Boston                 1\n",
       "Boston (Charlestown)         1\n",
       "Jamaica Plain (Boston)       1\n",
       "Dedham                       1\n",
       "boston                       1\n",
       "Mattapan                     1\n",
       "Boston (Jamaica Plain)       1\n",
       "ALLSTON                      1\n",
       "Dorchester Center            1\n",
       "Jamaica Plain, Boston        1\n",
       "Jamaica Plain                1\n",
       "Boston,                      1\n",
       "Lexington                    1\n",
       "Everett                      1\n",
       "east Boston                  1\n",
       "Jamaica plain                1\n",
       "Name: city, dtype: int64"
      ]
     },
     "execution_count": 168,
     "metadata": {},
     "output_type": "execute_result"
    }
   ],
   "source": [
    "listing_boston.city.value_counts()"
   ]
  },
  {
   "cell_type": "code",
   "execution_count": 169,
   "metadata": {},
   "outputs": [
    {
     "data": {
      "text/plain": [
       "host_is_superhost                   2\n",
       "host_has_profile_pic                2\n",
       "host_identity_verified              2\n",
       "market                              2\n",
       "is_location_exact                   2\n",
       "instant_bookable                    2\n",
       "require_guest_profile_picture       2\n",
       "require_guest_phone_verification    2\n",
       "dtype: int64"
      ]
     },
     "execution_count": 169,
     "metadata": {},
     "output_type": "execute_result"
    }
   ],
   "source": [
    "#now is turn to do the binary value transformation. Remember we had create the unique_value dataframe to put all the unique data \n",
    "#sum in it.\n",
    "unique_value[unique_value == 2]"
   ]
  },
  {
   "cell_type": "code",
   "execution_count": 170,
   "metadata": {},
   "outputs": [
    {
     "data": {
      "text/plain": [
       "t    6146\n",
       "f       7\n",
       "Name: host_has_profile_pic, dtype: int64"
      ]
     },
     "execution_count": 170,
     "metadata": {},
     "output_type": "execute_result"
    }
   ],
   "source": [
    "listing_boston.host_has_profile_pic.value_counts()"
   ]
  },
  {
   "cell_type": "markdown",
   "metadata": {},
   "source": [
    "There are only 7 host does not have profile, is not relevant enough to train our model, we can drop it."
   ]
  },
  {
   "cell_type": "code",
   "execution_count": 171,
   "metadata": {},
   "outputs": [
    {
     "data": {
      "text/plain": [
       "Boston                   6144\n",
       "Other (International)       1\n",
       "Name: market, dtype: int64"
      ]
     },
     "execution_count": 171,
     "metadata": {},
     "output_type": "execute_result"
    }
   ],
   "source": [
    "listing_boston.market.value_counts()"
   ]
  },
  {
   "cell_type": "markdown",
   "metadata": {},
   "source": [
    "There is only one different value from another, is not relevant enough to train our model, we can drop it."
   ]
  },
  {
   "cell_type": "code",
   "execution_count": 172,
   "metadata": {},
   "outputs": [],
   "source": [
    "#I will drop the column \"host_has_profile_pic\", \"market\"\n",
    "listing_boston = listing_boston.drop(['market', 'host_has_profile_pic'], axis=1)"
   ]
  },
  {
   "cell_type": "code",
   "execution_count": 173,
   "metadata": {},
   "outputs": [
    {
     "data": {
      "text/plain": [
       "host_is_superhost                    2\n",
       "host_identity_verified               2\n",
       "is_location_exact                    2\n",
       "instant_bookable                     2\n",
       "require_guest_profile_picture        2\n",
       "require_guest_phone_verification     2\n",
       "room_type                            3\n",
       "host_response_time                   4\n",
       "bed_type                             5\n",
       "cancellation_policy                  6\n",
       "property_type                       21\n",
       "neighbourhood                       29\n",
       "city                                36\n",
       "dtype: int64"
      ]
     },
     "execution_count": 173,
     "metadata": {},
     "output_type": "execute_result"
    }
   ],
   "source": [
    "listing_boston.select_dtypes(include=['object']).nunique().sort_values()"
   ]
  },
  {
   "cell_type": "code",
   "execution_count": 174,
   "metadata": {},
   "outputs": [
    {
     "data": {
      "text/plain": [
       "scrape_id                                          1\n",
       "calculated_host_listings_count_shared_rooms        6\n",
       "review_scores_value                                8\n",
       "review_scores_checkin                              8\n",
       "review_scores_accuracy                             9\n",
       "review_scores_cleanliness                          9\n",
       "review_scores_location                             9\n",
       "bedrooms                                           9\n",
       "review_scores_communication                        9\n",
       "bathrooms                                         12\n",
       "guests_included                                   12\n",
       "beds                                              16\n",
       "accommodates                                      16\n",
       "calculated_host_listings_count_private_rooms      19\n",
       "availability_30                                   31\n",
       "calculated_host_listings_count_entire_homes       35\n",
       "calculated_host_listings_count                    41\n",
       "minimum_minimum_nights                            42\n",
       "host_response_rate                                43\n",
       "minimum_nights                                    43\n",
       "review_scores_rating                              45\n",
       "extra_people                                      50\n",
       "maximum_minimum_nights                            50\n",
       "host_total_listings_count                         60\n",
       "host_listings_count                               60\n",
       "availability_60                                   61\n",
       "security_deposit                                  63\n",
       "availability_90                                   91\n",
       "minimum_maximum_nights                           124\n",
       "maximum_maximum_nights                           124\n",
       "maximum_nights                                   124\n",
       "number_of_reviews_ltm                            135\n",
       "maximum_nights_avg_ntm                           139\n",
       "cleaning_fee                                     148\n",
       "minimum_nights_avg_ntm                           152\n",
       "number_of_reviews                                300\n",
       "availability_365                                 366\n",
       "price                                            398\n",
       "reviews_per_month                                777\n",
       "host_id                                         2784\n",
       "latitude                                        6155\n",
       "longitude                                       6155\n",
       "id                                              6155\n",
       "dtype: int64"
      ]
     },
     "execution_count": 174,
     "metadata": {},
     "output_type": "execute_result"
    }
   ],
   "source": [
    "# Now lets see the numeric data\n",
    "listing_boston.select_dtypes(include=['float64', 'int64']).nunique().sort_values()"
   ]
  },
  {
   "cell_type": "code",
   "execution_count": 175,
   "metadata": {},
   "outputs": [],
   "source": [
    "#lets put the this in a dataframe to use better later.\n",
    "unique_value_int = listing_boston.select_dtypes(include=['float64', 'int64']).nunique()\n",
    "#Choose the unique value is 1 and more than 1000 then put them into 2 different dataframes to drop it later.\n",
    "unique_value_int_more_than400 = unique_value_int[unique_value_int>400].index\n",
    "unique_value_int_between350and50 = unique_value_int[unique_value_int>50].index & unique_value_int[unique_value_int<350].index\n",
    "unique_value_int_is1= unique_value_int[unique_value_int == 1].index"
   ]
  },
  {
   "cell_type": "code",
   "execution_count": 176,
   "metadata": {},
   "outputs": [],
   "source": [
    "# Drop them\n",
    "listing_boston = listing_boston.drop(columns = unique_value_int_between350and50,axis=1)\n",
    "listing_boston = listing_boston.drop(columns = unique_value_int_more_than400, axis=1)\n",
    "listing_boston = listing_boston.drop(columns = unique_value_int_is1, axis=1)"
   ]
  },
  {
   "cell_type": "code",
   "execution_count": 177,
   "metadata": {},
   "outputs": [
    {
     "data": {
      "text/plain": [
       "calculated_host_listings_count_shared_rooms       6\n",
       "review_scores_value                               8\n",
       "review_scores_checkin                             8\n",
       "bedrooms                                          9\n",
       "review_scores_location                            9\n",
       "review_scores_communication                       9\n",
       "review_scores_cleanliness                         9\n",
       "review_scores_accuracy                            9\n",
       "bathrooms                                        12\n",
       "guests_included                                  12\n",
       "accommodates                                     16\n",
       "beds                                             16\n",
       "calculated_host_listings_count_private_rooms     19\n",
       "availability_30                                  31\n",
       "calculated_host_listings_count_entire_homes      35\n",
       "calculated_host_listings_count                   41\n",
       "minimum_minimum_nights                           42\n",
       "minimum_nights                                   43\n",
       "host_response_rate                               43\n",
       "review_scores_rating                             45\n",
       "maximum_minimum_nights                           50\n",
       "extra_people                                     50\n",
       "availability_365                                366\n",
       "price                                           398\n",
       "dtype: int64"
      ]
     },
     "execution_count": 177,
     "metadata": {},
     "output_type": "execute_result"
    }
   ],
   "source": [
    "listing_boston.select_dtypes(include=['float64', 'int64']).nunique().sort_values()"
   ]
  },
  {
   "cell_type": "code",
   "execution_count": 178,
   "metadata": {},
   "outputs": [],
   "source": [
    "# Drop some columns will not affect on the price\n",
    "listing_boston = listing_boston.drop(['availability_365','accommodates', 'minimum_nights', 'calculated_host_listings_count', \n",
    "                                      'calculated_host_listings_count_entire_homes','availability_30', \n",
    "                                      'calculated_host_listings_count_private_rooms',\n",
    "                                      'calculated_host_listings_count_shared_rooms',\n",
    "                                     'maximum_minimum_nights','minimum_minimum_nights'], axis=1)"
   ]
  },
  {
   "cell_type": "code",
   "execution_count": 179,
   "metadata": {},
   "outputs": [],
   "source": [
    "#Create a loop to fill all the missing value cols with mode, so there will not be rows with missing value.\n",
    "num_vars = listing_boston.select_dtypes(include=['float64', 'int64']).columns\n",
    "for col in num_vars:\n",
    "    listing_boston[col].fillna((listing_boston[col].mean()), inplace=True)"
   ]
  },
  {
   "cell_type": "markdown",
   "metadata": {},
   "source": [
    "Now we have few categorical values, we can neither dummy them into numerical value or think again whether we really need keep them or we should drop them."
   ]
  },
  {
   "cell_type": "code",
   "execution_count": 180,
   "metadata": {},
   "outputs": [],
   "source": [
    "cat_listing_boston = listing_boston.select_dtypes(include=['object'])"
   ]
  },
  {
   "cell_type": "code",
   "execution_count": 181,
   "metadata": {},
   "outputs": [],
   "source": [
    "#Pull a list of the column names of the categorical variables\n",
    "cat_cols_lst = cat_listing_boston.columns\n",
    "\n",
    "#Create a dataframe that contains all columns that were not specified as categorical, removes all the original columns in\n",
    "#cat_listing_boston, dummy columns for each of the categorical columns in cat_listing_boston, and use a prefix of the column\n",
    "#name with an underscore(_) for separating.\n",
    "\n",
    "def create_dummy_df(df, cat_cols, dummy_na):\n",
    "\n",
    "    for col in  cat_cols:\n",
    "        try:\n",
    "            # for each cat add dummy var, drop original column\n",
    "            df = pd.concat([df.drop(col, axis=1), pd.get_dummies(df[col], prefix=col, prefix_sep='_', drop_first=True, dummy_na=dummy_na)], axis=1)\n",
    "        except:\n",
    "            continue\n",
    "    return df"
   ]
  },
  {
   "cell_type": "code",
   "execution_count": 182,
   "metadata": {},
   "outputs": [],
   "source": [
    "#Use your newly created function\n",
    "new_listing_boston = create_dummy_df(listing_boston, cat_cols_lst, dummy_na=False)"
   ]
  },
  {
   "cell_type": "code",
   "execution_count": 183,
   "metadata": {},
   "outputs": [
    {
     "data": {
      "text/plain": [
       "(6155, 149)"
      ]
     },
     "execution_count": 183,
     "metadata": {},
     "output_type": "execute_result"
    }
   ],
   "source": [
    "listing_boston.shape"
   ]
  },
  {
   "cell_type": "code",
   "execution_count": 184,
   "metadata": {},
   "outputs": [
    {
     "data": {
      "text/plain": [
       "(6155, 239)"
      ]
     },
     "execution_count": 184,
     "metadata": {},
     "output_type": "execute_result"
    }
   ],
   "source": [
    "new_listing_boston.shape"
   ]
  },
  {
   "cell_type": "code",
   "execution_count": 185,
   "metadata": {
    "scrolled": true
   },
   "outputs": [
    {
     "data": {
      "text/html": [
       "<div>\n",
       "<style scoped>\n",
       "    .dataframe tbody tr th:only-of-type {\n",
       "        vertical-align: middle;\n",
       "    }\n",
       "\n",
       "    .dataframe tbody tr th {\n",
       "        vertical-align: top;\n",
       "    }\n",
       "\n",
       "    .dataframe thead th {\n",
       "        text-align: right;\n",
       "    }\n",
       "</style>\n",
       "<table border=\"1\" class=\"dataframe\">\n",
       "  <thead>\n",
       "    <tr style=\"text-align: right;\">\n",
       "      <th></th>\n",
       "      <th>host_response_rate</th>\n",
       "      <th>bathrooms</th>\n",
       "      <th>bedrooms</th>\n",
       "      <th>beds</th>\n",
       "      <th>price</th>\n",
       "      <th>guests_included</th>\n",
       "      <th>extra_people</th>\n",
       "      <th>review_scores_rating</th>\n",
       "      <th>review_scores_accuracy</th>\n",
       "      <th>review_scores_cleanliness</th>\n",
       "      <th>...</th>\n",
       "      <th>bed_type_Pull-out Sofa</th>\n",
       "      <th>bed_type_Real Bed</th>\n",
       "      <th>instant_bookable_t</th>\n",
       "      <th>cancellation_policy_moderate</th>\n",
       "      <th>cancellation_policy_strict</th>\n",
       "      <th>cancellation_policy_strict_14_with_grace_period</th>\n",
       "      <th>cancellation_policy_super_strict_30</th>\n",
       "      <th>cancellation_policy_super_strict_60</th>\n",
       "      <th>require_guest_profile_picture_t</th>\n",
       "      <th>require_guest_phone_verification_t</th>\n",
       "    </tr>\n",
       "  </thead>\n",
       "  <tbody>\n",
       "    <tr>\n",
       "      <th>0</th>\n",
       "      <td>100.000000</td>\n",
       "      <td>1.0</td>\n",
       "      <td>1.0</td>\n",
       "      <td>1.0</td>\n",
       "      <td>125.0</td>\n",
       "      <td>2</td>\n",
       "      <td>0.0</td>\n",
       "      <td>99.0</td>\n",
       "      <td>10.0</td>\n",
       "      <td>10.0</td>\n",
       "      <td>...</td>\n",
       "      <td>0</td>\n",
       "      <td>1</td>\n",
       "      <td>0</td>\n",
       "      <td>0</td>\n",
       "      <td>0</td>\n",
       "      <td>0</td>\n",
       "      <td>1</td>\n",
       "      <td>0</td>\n",
       "      <td>0</td>\n",
       "      <td>0</td>\n",
       "    </tr>\n",
       "    <tr>\n",
       "      <th>1</th>\n",
       "      <td>100.000000</td>\n",
       "      <td>1.0</td>\n",
       "      <td>1.0</td>\n",
       "      <td>1.0</td>\n",
       "      <td>145.0</td>\n",
       "      <td>1</td>\n",
       "      <td>0.0</td>\n",
       "      <td>95.0</td>\n",
       "      <td>10.0</td>\n",
       "      <td>10.0</td>\n",
       "      <td>...</td>\n",
       "      <td>0</td>\n",
       "      <td>1</td>\n",
       "      <td>1</td>\n",
       "      <td>0</td>\n",
       "      <td>0</td>\n",
       "      <td>1</td>\n",
       "      <td>0</td>\n",
       "      <td>0</td>\n",
       "      <td>0</td>\n",
       "      <td>0</td>\n",
       "    </tr>\n",
       "    <tr>\n",
       "      <th>2</th>\n",
       "      <td>100.000000</td>\n",
       "      <td>1.0</td>\n",
       "      <td>1.0</td>\n",
       "      <td>2.0</td>\n",
       "      <td>169.0</td>\n",
       "      <td>2</td>\n",
       "      <td>8.0</td>\n",
       "      <td>97.0</td>\n",
       "      <td>10.0</td>\n",
       "      <td>10.0</td>\n",
       "      <td>...</td>\n",
       "      <td>0</td>\n",
       "      <td>1</td>\n",
       "      <td>1</td>\n",
       "      <td>0</td>\n",
       "      <td>0</td>\n",
       "      <td>1</td>\n",
       "      <td>0</td>\n",
       "      <td>0</td>\n",
       "      <td>0</td>\n",
       "      <td>0</td>\n",
       "    </tr>\n",
       "    <tr>\n",
       "      <th>3</th>\n",
       "      <td>94.819605</td>\n",
       "      <td>1.0</td>\n",
       "      <td>1.0</td>\n",
       "      <td>1.0</td>\n",
       "      <td>65.0</td>\n",
       "      <td>1</td>\n",
       "      <td>30.0</td>\n",
       "      <td>98.0</td>\n",
       "      <td>10.0</td>\n",
       "      <td>10.0</td>\n",
       "      <td>...</td>\n",
       "      <td>0</td>\n",
       "      <td>1</td>\n",
       "      <td>0</td>\n",
       "      <td>1</td>\n",
       "      <td>0</td>\n",
       "      <td>0</td>\n",
       "      <td>0</td>\n",
       "      <td>0</td>\n",
       "      <td>1</td>\n",
       "      <td>0</td>\n",
       "    </tr>\n",
       "    <tr>\n",
       "      <th>4</th>\n",
       "      <td>93.000000</td>\n",
       "      <td>1.0</td>\n",
       "      <td>1.0</td>\n",
       "      <td>1.0</td>\n",
       "      <td>99.0</td>\n",
       "      <td>1</td>\n",
       "      <td>0.0</td>\n",
       "      <td>92.0</td>\n",
       "      <td>9.0</td>\n",
       "      <td>9.0</td>\n",
       "      <td>...</td>\n",
       "      <td>0</td>\n",
       "      <td>1</td>\n",
       "      <td>0</td>\n",
       "      <td>0</td>\n",
       "      <td>0</td>\n",
       "      <td>1</td>\n",
       "      <td>0</td>\n",
       "      <td>0</td>\n",
       "      <td>0</td>\n",
       "      <td>0</td>\n",
       "    </tr>\n",
       "  </tbody>\n",
       "</table>\n",
       "<p>5 rows × 239 columns</p>\n",
       "</div>"
      ],
      "text/plain": [
       "   host_response_rate  bathrooms  bedrooms  beds  price  guests_included  \\\n",
       "0          100.000000        1.0       1.0   1.0  125.0                2   \n",
       "1          100.000000        1.0       1.0   1.0  145.0                1   \n",
       "2          100.000000        1.0       1.0   2.0  169.0                2   \n",
       "3           94.819605        1.0       1.0   1.0   65.0                1   \n",
       "4           93.000000        1.0       1.0   1.0   99.0                1   \n",
       "\n",
       "   extra_people  review_scores_rating  review_scores_accuracy  \\\n",
       "0           0.0                  99.0                    10.0   \n",
       "1           0.0                  95.0                    10.0   \n",
       "2           8.0                  97.0                    10.0   \n",
       "3          30.0                  98.0                    10.0   \n",
       "4           0.0                  92.0                     9.0   \n",
       "\n",
       "   review_scores_cleanliness                 ...                  \\\n",
       "0                       10.0                 ...                   \n",
       "1                       10.0                 ...                   \n",
       "2                       10.0                 ...                   \n",
       "3                       10.0                 ...                   \n",
       "4                        9.0                 ...                   \n",
       "\n",
       "   bed_type_Pull-out Sofa  bed_type_Real Bed  instant_bookable_t  \\\n",
       "0                       0                  1                   0   \n",
       "1                       0                  1                   1   \n",
       "2                       0                  1                   1   \n",
       "3                       0                  1                   0   \n",
       "4                       0                  1                   0   \n",
       "\n",
       "   cancellation_policy_moderate  cancellation_policy_strict  \\\n",
       "0                             0                           0   \n",
       "1                             0                           0   \n",
       "2                             0                           0   \n",
       "3                             1                           0   \n",
       "4                             0                           0   \n",
       "\n",
       "   cancellation_policy_strict_14_with_grace_period  \\\n",
       "0                                                0   \n",
       "1                                                1   \n",
       "2                                                1   \n",
       "3                                                0   \n",
       "4                                                1   \n",
       "\n",
       "   cancellation_policy_super_strict_30  cancellation_policy_super_strict_60  \\\n",
       "0                                    1                                    0   \n",
       "1                                    0                                    0   \n",
       "2                                    0                                    0   \n",
       "3                                    0                                    0   \n",
       "4                                    0                                    0   \n",
       "\n",
       "   require_guest_profile_picture_t  require_guest_phone_verification_t  \n",
       "0                                0                                   0  \n",
       "1                                0                                   0  \n",
       "2                                0                                   0  \n",
       "3                                1                                   0  \n",
       "4                                0                                   0  \n",
       "\n",
       "[5 rows x 239 columns]"
      ]
     },
     "execution_count": 185,
     "metadata": {},
     "output_type": "execute_result"
    }
   ],
   "source": [
    "new_listing_boston.head()"
   ]
  },
  {
   "cell_type": "markdown",
   "metadata": {},
   "source": [
    "### Train and test the data, build a Machine Learning Model - Boston Listing data"
   ]
  },
  {
   "cell_type": "code",
   "execution_count": 186,
   "metadata": {},
   "outputs": [
    {
     "data": {
      "text/html": [
       "<div>\n",
       "<style scoped>\n",
       "    .dataframe tbody tr th:only-of-type {\n",
       "        vertical-align: middle;\n",
       "    }\n",
       "\n",
       "    .dataframe tbody tr th {\n",
       "        vertical-align: top;\n",
       "    }\n",
       "\n",
       "    .dataframe thead th {\n",
       "        text-align: right;\n",
       "    }\n",
       "</style>\n",
       "<table border=\"1\" class=\"dataframe\">\n",
       "  <thead>\n",
       "    <tr style=\"text-align: right;\">\n",
       "      <th></th>\n",
       "      <th>host_response_rate</th>\n",
       "      <th>bathrooms</th>\n",
       "      <th>bedrooms</th>\n",
       "      <th>beds</th>\n",
       "      <th>price</th>\n",
       "      <th>guests_included</th>\n",
       "      <th>extra_people</th>\n",
       "      <th>review_scores_rating</th>\n",
       "      <th>review_scores_accuracy</th>\n",
       "      <th>review_scores_cleanliness</th>\n",
       "      <th>review_scores_checkin</th>\n",
       "      <th>review_scores_communication</th>\n",
       "      <th>review_scores_location</th>\n",
       "      <th>review_scores_value</th>\n",
       "    </tr>\n",
       "  </thead>\n",
       "  <tbody>\n",
       "    <tr>\n",
       "      <th>count</th>\n",
       "      <td>5.000000</td>\n",
       "      <td>5.0</td>\n",
       "      <td>5.0</td>\n",
       "      <td>5.000000</td>\n",
       "      <td>5.000000</td>\n",
       "      <td>5.000000</td>\n",
       "      <td>5.000000</td>\n",
       "      <td>5.000000</td>\n",
       "      <td>5.000000</td>\n",
       "      <td>5.000000</td>\n",
       "      <td>5.0</td>\n",
       "      <td>5.0</td>\n",
       "      <td>5.000000</td>\n",
       "      <td>5.000000</td>\n",
       "    </tr>\n",
       "    <tr>\n",
       "      <th>mean</th>\n",
       "      <td>97.563921</td>\n",
       "      <td>1.0</td>\n",
       "      <td>1.0</td>\n",
       "      <td>1.200000</td>\n",
       "      <td>120.600000</td>\n",
       "      <td>1.400000</td>\n",
       "      <td>7.600000</td>\n",
       "      <td>96.200000</td>\n",
       "      <td>9.800000</td>\n",
       "      <td>9.800000</td>\n",
       "      <td>10.0</td>\n",
       "      <td>10.0</td>\n",
       "      <td>9.400000</td>\n",
       "      <td>9.600000</td>\n",
       "    </tr>\n",
       "    <tr>\n",
       "      <th>std</th>\n",
       "      <td>3.397208</td>\n",
       "      <td>0.0</td>\n",
       "      <td>0.0</td>\n",
       "      <td>0.447214</td>\n",
       "      <td>40.358394</td>\n",
       "      <td>0.547723</td>\n",
       "      <td>12.992305</td>\n",
       "      <td>2.774887</td>\n",
       "      <td>0.447214</td>\n",
       "      <td>0.447214</td>\n",
       "      <td>0.0</td>\n",
       "      <td>0.0</td>\n",
       "      <td>0.547723</td>\n",
       "      <td>0.547723</td>\n",
       "    </tr>\n",
       "    <tr>\n",
       "      <th>min</th>\n",
       "      <td>93.000000</td>\n",
       "      <td>1.0</td>\n",
       "      <td>1.0</td>\n",
       "      <td>1.000000</td>\n",
       "      <td>65.000000</td>\n",
       "      <td>1.000000</td>\n",
       "      <td>0.000000</td>\n",
       "      <td>92.000000</td>\n",
       "      <td>9.000000</td>\n",
       "      <td>9.000000</td>\n",
       "      <td>10.0</td>\n",
       "      <td>10.0</td>\n",
       "      <td>9.000000</td>\n",
       "      <td>9.000000</td>\n",
       "    </tr>\n",
       "    <tr>\n",
       "      <th>25%</th>\n",
       "      <td>94.819605</td>\n",
       "      <td>1.0</td>\n",
       "      <td>1.0</td>\n",
       "      <td>1.000000</td>\n",
       "      <td>99.000000</td>\n",
       "      <td>1.000000</td>\n",
       "      <td>0.000000</td>\n",
       "      <td>95.000000</td>\n",
       "      <td>10.000000</td>\n",
       "      <td>10.000000</td>\n",
       "      <td>10.0</td>\n",
       "      <td>10.0</td>\n",
       "      <td>9.000000</td>\n",
       "      <td>9.000000</td>\n",
       "    </tr>\n",
       "    <tr>\n",
       "      <th>50%</th>\n",
       "      <td>100.000000</td>\n",
       "      <td>1.0</td>\n",
       "      <td>1.0</td>\n",
       "      <td>1.000000</td>\n",
       "      <td>125.000000</td>\n",
       "      <td>1.000000</td>\n",
       "      <td>0.000000</td>\n",
       "      <td>97.000000</td>\n",
       "      <td>10.000000</td>\n",
       "      <td>10.000000</td>\n",
       "      <td>10.0</td>\n",
       "      <td>10.0</td>\n",
       "      <td>9.000000</td>\n",
       "      <td>10.000000</td>\n",
       "    </tr>\n",
       "    <tr>\n",
       "      <th>75%</th>\n",
       "      <td>100.000000</td>\n",
       "      <td>1.0</td>\n",
       "      <td>1.0</td>\n",
       "      <td>1.000000</td>\n",
       "      <td>145.000000</td>\n",
       "      <td>2.000000</td>\n",
       "      <td>8.000000</td>\n",
       "      <td>98.000000</td>\n",
       "      <td>10.000000</td>\n",
       "      <td>10.000000</td>\n",
       "      <td>10.0</td>\n",
       "      <td>10.0</td>\n",
       "      <td>10.000000</td>\n",
       "      <td>10.000000</td>\n",
       "    </tr>\n",
       "    <tr>\n",
       "      <th>max</th>\n",
       "      <td>100.000000</td>\n",
       "      <td>1.0</td>\n",
       "      <td>1.0</td>\n",
       "      <td>2.000000</td>\n",
       "      <td>169.000000</td>\n",
       "      <td>2.000000</td>\n",
       "      <td>30.000000</td>\n",
       "      <td>99.000000</td>\n",
       "      <td>10.000000</td>\n",
       "      <td>10.000000</td>\n",
       "      <td>10.0</td>\n",
       "      <td>10.0</td>\n",
       "      <td>10.000000</td>\n",
       "      <td>10.000000</td>\n",
       "    </tr>\n",
       "  </tbody>\n",
       "</table>\n",
       "</div>"
      ],
      "text/plain": [
       "       host_response_rate  bathrooms  bedrooms      beds       price  \\\n",
       "count            5.000000        5.0       5.0  5.000000    5.000000   \n",
       "mean            97.563921        1.0       1.0  1.200000  120.600000   \n",
       "std              3.397208        0.0       0.0  0.447214   40.358394   \n",
       "min             93.000000        1.0       1.0  1.000000   65.000000   \n",
       "25%             94.819605        1.0       1.0  1.000000   99.000000   \n",
       "50%            100.000000        1.0       1.0  1.000000  125.000000   \n",
       "75%            100.000000        1.0       1.0  1.000000  145.000000   \n",
       "max            100.000000        1.0       1.0  2.000000  169.000000   \n",
       "\n",
       "       guests_included  extra_people  review_scores_rating  \\\n",
       "count         5.000000      5.000000              5.000000   \n",
       "mean          1.400000      7.600000             96.200000   \n",
       "std           0.547723     12.992305              2.774887   \n",
       "min           1.000000      0.000000             92.000000   \n",
       "25%           1.000000      0.000000             95.000000   \n",
       "50%           1.000000      0.000000             97.000000   \n",
       "75%           2.000000      8.000000             98.000000   \n",
       "max           2.000000     30.000000             99.000000   \n",
       "\n",
       "       review_scores_accuracy  review_scores_cleanliness  \\\n",
       "count                5.000000                   5.000000   \n",
       "mean                 9.800000                   9.800000   \n",
       "std                  0.447214                   0.447214   \n",
       "min                  9.000000                   9.000000   \n",
       "25%                 10.000000                  10.000000   \n",
       "50%                 10.000000                  10.000000   \n",
       "75%                 10.000000                  10.000000   \n",
       "max                 10.000000                  10.000000   \n",
       "\n",
       "       review_scores_checkin  review_scores_communication  \\\n",
       "count                    5.0                          5.0   \n",
       "mean                    10.0                         10.0   \n",
       "std                      0.0                          0.0   \n",
       "min                     10.0                         10.0   \n",
       "25%                     10.0                         10.0   \n",
       "50%                     10.0                         10.0   \n",
       "75%                     10.0                         10.0   \n",
       "max                     10.0                         10.0   \n",
       "\n",
       "       review_scores_location  review_scores_value  \n",
       "count                5.000000             5.000000  \n",
       "mean                 9.400000             9.600000  \n",
       "std                  0.547723             0.547723  \n",
       "min                  9.000000             9.000000  \n",
       "25%                  9.000000             9.000000  \n",
       "50%                  9.000000            10.000000  \n",
       "75%                 10.000000            10.000000  \n",
       "max                 10.000000            10.000000  "
      ]
     },
     "execution_count": 186,
     "metadata": {},
     "output_type": "execute_result"
    }
   ],
   "source": [
    "unique_value_int2 = listing_boston.select_dtypes(include=['float64', 'int64']).head()\n",
    "unique_value_int2.describe()"
   ]
  },
  {
   "cell_type": "markdown",
   "metadata": {},
   "source": [
    "You can see from this statistic summary, the host_response_rate and extra_people have the biggest standard deviation, they are the features that are highly skewed. We should scale them."
   ]
  },
  {
   "cell_type": "code",
   "execution_count": 187,
   "metadata": {},
   "outputs": [],
   "source": [
    "# Import sklearn.preprocessing.StandardScaler\n",
    "from sklearn.preprocessing import MinMaxScaler\n",
    "# Initialize a scaler, then apply it to the features\n",
    "scaler = MinMaxScaler()\n",
    "numerical = ['host_response_rate', 'extra_people','review_scores_rating']\n",
    "\n",
    "new_listing_boston[numerical] = scaler.fit_transform(new_listing_boston[numerical])"
   ]
  },
  {
   "cell_type": "code",
   "execution_count": 188,
   "metadata": {},
   "outputs": [],
   "source": [
    "# Split the 'features' and 'income' data into training and testing sets\n",
    "X = new_listing_boston.drop(['price'], axis=1)\n",
    "y = new_listing_boston['price']\n",
    "\n",
    "X_train, X_test, y_train, y_test = train_test_split(X, y, test_size=0.2, random_state=42)"
   ]
  },
  {
   "cell_type": "code",
   "execution_count": 189,
   "metadata": {
    "scrolled": true
   },
   "outputs": [
    {
     "name": "stdout",
     "output_type": "stream",
     "text": [
      "LinearRegression model has R-square -3.7375800815463593e+24 on testing data.\n",
      "LinearRegression model has R-square 0.37742804823394827 on training data.\n",
      "LinearRegression model has mean_square_error 8.676188678202936e+29 on testing data.\n",
      "LinearRegression model has mean_square_error 73485.76114331743 on training data.\n",
      "LinearRegression model has Rmse 931460609913427.1 on testing data.\n",
      "LinearRegression model has Rmse 271.0825725555175 on training data.\n",
      "LinearRegression model has mean_absolute_error 37009029298733.72 on testing data.\n",
      "LinearRegression model has mean_absolute_error 130.9744005476439 on training data.\n",
      "LogisticRegression model has R-square 0.5629721588166713 on testing data.\n",
      "LogisticRegression model has R-square 0.9118207261349689 on training data.\n",
      "LogisticRegression model has mean_square_error 101448.9569455727 on testing data.\n",
      "LogisticRegression model has mean_square_error 10408.308692120227 on training data.\n",
      "LogisticRegression model has Rmse 318.5105287829159 on testing data.\n",
      "LogisticRegression model has Rmse 102.02111885350124 on training data.\n",
      "LogisticRegression model has mean_absolute_error 74.23395613322502 on testing data.\n",
      "LogisticRegression model has mean_absolute_error 31.91714053614947 on training data.\n",
      "RandomForestRegressor model has R-square 0.3844567039638731 on testing data.\n",
      "RandomForestRegressor model has R-square 0.9098678658838457 on training data.\n",
      "RandomForestRegressor model has mean_square_error 142888.4374245379 on testing data.\n",
      "RandomForestRegressor model has mean_square_error 10638.816060068986 on training data.\n",
      "RandomForestRegressor model has Rmse 378.005869563606 on testing data.\n",
      "RandomForestRegressor model has Rmse 103.14463660350444 on training data.\n",
      "RandomForestRegressor model has mean_absolute_error 88.89985416424896 on testing data.\n",
      "RandomForestRegressor model has mean_absolute_error 28.045312749462827 on training data.\n",
      "GradientBoostingRegressor model has R-square 0.33132400890947666 on testing data.\n",
      "GradientBoostingRegressor model has R-square 0.7785646325827595 on training data.\n",
      "GradientBoostingRegressor model has mean_square_error 155222.33468467733 on testing data.\n",
      "GradientBoostingRegressor model has mean_square_error 26137.294609155215 on training data.\n",
      "GradientBoostingRegressor model has Rmse 393.9826578476232 on testing data.\n",
      "GradientBoostingRegressor model has Rmse 161.67032692846024 on training data.\n",
      "GradientBoostingRegressor model has mean_absolute_error 98.08134823049909 on testing data.\n",
      "GradientBoostingRegressor model has mean_absolute_error 66.21309131697473 on training data.\n",
      "AdaBoostRegressor model has R-square 0.3314883200547871 on testing data.\n",
      "AdaBoostRegressor model has R-square 0.5507419331990961 on training data.\n",
      "AdaBoostRegressor model has mean_square_error 155184.19250531148 on testing data.\n",
      "AdaBoostRegressor model has mean_square_error 53028.5228799477 on training data.\n",
      "AdaBoostRegressor model has Rmse 393.9342489620717 on testing data.\n",
      "AdaBoostRegressor model has Rmse 230.27922806876808 on training data.\n",
      "AdaBoostRegressor model has mean_absolute_error 206.1370739463381 on testing data.\n",
      "AdaBoostRegressor model has mean_absolute_error 172.2620521178258 on training data.\n"
     ]
    }
   ],
   "source": [
    "Regrs_A = LinearRegression(normalize=True)\n",
    "Regrs_B = LogisticRegression(random_state=42)\n",
    "Regrs_C = RandomForestRegressor(random_state=42)\n",
    "Regrs_D = GradientBoostingRegressor(random_state=42)\n",
    "Regrs_E = AdaBoostRegressor(random_state=42)\n",
    "    \n",
    "for clf in [Regrs_A, Regrs_B, Regrs_C, Regrs_D,Regrs_E]:\n",
    "    clf_name = clf.__class__.__name__\n",
    "    clf.fit(X_train, y_train)\n",
    "    y_test_preds = clf.predict(X_test)\n",
    "    y_train_preds = clf.predict(X_train)\n",
    "\n",
    "    test_score = r2_score(y_test, y_test_preds)\n",
    "    train_score = r2_score(y_train, y_train_preds)\n",
    "\n",
    "    test_score_MSE = mean_squared_error(y_test, y_test_preds)\n",
    "    train_score_MSE = mean_squared_error(y_train, y_train_preds)\n",
    "\n",
    "    test_score_rms = sqrt(test_score_MSE)\n",
    "    train_score_rms = sqrt(train_score_MSE)\n",
    "\n",
    "    mean_absolute_error_test = mean_absolute_error(y_test, y_test_preds)\n",
    "    mean_absolute_error_train =mean_absolute_error(y_train, y_train_preds)\n",
    "    \n",
    "    \n",
    "    \n",
    "\n",
    "    print(\"{} model has R-square {} on testing data.\".format(clf_name, test_score))\n",
    "    print(\"{} model has R-square {} on training data.\".format(clf_name, train_score))\n",
    "    print(\"{} model has mean_square_error {} on testing data.\".format(clf_name, test_score_MSE))\n",
    "    print(\"{} model has mean_square_error {} on training data.\".format(clf_name, train_score_MSE))\n",
    "    print(\"{} model has Rmse {} on testing data.\".format(clf_name, test_score_rms))\n",
    "    print(\"{} model has Rmse {} on training data.\".format(clf_name, train_score_rms))\n",
    "    print(\"{} model has mean_absolute_error {} on testing data.\".format(clf_name, mean_absolute_error_test))\n",
    "    print(\"{} model has mean_absolute_error {} on training data.\".format(clf_name, mean_absolute_error_train))"
   ]
  },
  {
   "cell_type": "markdown",
   "metadata": {},
   "source": [
    "### Analize and visualize the data"
   ]
  },
  {
   "cell_type": "code",
   "execution_count": 203,
   "metadata": {
    "scrolled": false
   },
   "outputs": [
    {
     "data": {
      "text/plain": [
       "<matplotlib.axes._subplots.AxesSubplot at 0x22ffea08f60>"
      ]
     },
     "execution_count": 203,
     "metadata": {},
     "output_type": "execute_result"
    },
    {
     "data": {
      "image/png": "[encoded data removed]",
      "text/plain": [
       "<Figure size 576x720 with 1 Axes>"
      ]
     },
     "metadata": {
      "needs_background": "light"
     },
     "output_type": "display_data"
    }
   ],
   "source": [
    "model = RandomForestRegressor().fit(X_train,y_train)\n",
    "\n",
    "# TODO: Extract the feature importances using .feature_importances_ \n",
    "importances = model.feature_importances_\n",
    "\n",
    "# Plot\n",
    "feat_imp = pd.Series(model.feature_importances_, index=X.columns)\n",
    "feat_imp.nlargest(30).plot(kind='barh', figsize=(8,10))"
   ]
  },
  {
   "cell_type": "code",
   "execution_count": null,
   "metadata": {},
   "outputs": [],
   "source": [
    "# TODO: Import 'GridSearchCV', 'make_scorer', and any other necessary libraries\n",
    "from sklearn.model_selection import GridSearchCV\n",
    "\n",
    "param_grid = [{'n_estimators': [10, 50, 100, 150, 200], 'max_features': [4, 6, 8, 10]},]\n",
    "forest_reg = RandomForestRegressor(random_state=42)\n",
    "# train across 5 folds, that's a total of (12+6)*5=90 rounds of training \n",
    "grid_search = GridSearchCV(forest_reg, param_grid, cv=5,\n",
    "                       scoring='neg_mean_squared_error')\n",
    "grid_fit = grid_search.fit(X_train, y_train)\n",
    "\n",
    "# Get the estimator\n",
    "best_clf = grid_fit.best_estimator_\n",
    "best_params = grid_fit.best_params_"
   ]
  },
  {
   "cell_type": "code",
   "execution_count": null,
   "metadata": {},
   "outputs": [],
   "source": [
    "Regrs_C = RandomForestRegressor(random_state=42)\n",
    "# Import functionality for cloning a model\n",
    "from sklearn.base import clone\n",
    "\n",
    "# Reduce the feature space\n",
    "X_train_reduced = X_train[X_train.columns.values[(np.argsort(importances)[::-1])[:5]]]\n",
    "X_test_reduced = X_test[X_test.columns.values[(np.argsort(importances)[::-1])[:5]]]\n",
    "\n",
    "# Train on the \"best\" model found from grid search earlier\n",
    "clf = Regrs_C.fit(X_train_reduced, y_train)\n",
    "\n",
    "# Make new predictions\n",
    "reduced_predictions = clf.predict(X_test_reduced)"
   ]
  },
  {
   "cell_type": "markdown",
   "metadata": {},
   "source": [
    "### Create a function to put all the previous clean process in it."
   ]
  },
  {
   "cell_type": "code",
   "execution_count": null,
   "metadata": {},
   "outputs": [],
   "source": [
    "#Create a function to put all the actions I did before to clean the data.\n",
    "\n",
    "def clean_data(df):\n",
    "    '''Output of this function is a clean data after applying for all the data cleanning process.\n",
    "    \n",
    "    Input: \n",
    "    1.Define X and y for later use\n",
    "    2.Drop the columns with more than 80% missing data.\n",
    "    3.Clean and organize the string type data.\n",
    "    4.Clean the \"amenities\" column.\n",
    "    5.Remove the currency unit \"$\" from all the money columns.\n",
    "    6.Convert the columns into numeric\n",
    "    7.Clean and organize the integer or float type data.\n",
    "    8.Transform the categorical data.\n",
    "    '''\n",
    "    \n",
    "    # Drop rows with missing price values\n",
    "    df = df.dropna(subset=['price'], axis=0)\n",
    "    y = df['price']\n",
    "    \n",
    "    y = y.str.lstrip('$')\n",
    "    y = y.str.replace(',','')\n",
    "    y = pd.to_numeric(y)\n",
    "    # Drop the columns with more than 80% missing value\n",
    "    drop_selected_columns = [col for col in df.columns if (df[col].isnull().sum()/\n",
    "                                                                   df.shape[0]>0.8)]\n",
    "    for col in drop_selected_columns:\n",
    "        df.drop(col, axis=1, inplace=True)\n",
    "        \n",
    "    # Create one table to put all the string data in it and drop the ones with unique value equal to 1 or more than 1000\n",
    "    unique_value = df.select_dtypes(include=['object']).nunique()\n",
    "    unique_value_is_1 = unique_value[unique_value==1].index\n",
    "    unique_value_more_than1000 = unique_value[unique_value > 800].index & unique_value[unique_value < 7500].index\n",
    "    df = df.drop(columns =unique_value_is_1,axis=1)\n",
    "    df = df.drop(columns =unique_value_more_than1000,axis=1)\n",
    "      \n",
    "    # Replace the \" in the amenities and split them and put into different columns\n",
    "    amenities = df['amenities'].map(lambda d: [amenity.replace('\"', \"\").replace(\"{\", \"\").\n",
    "                                           replace(\"}\", \"\") for amenity in d.split(\",\")])\n",
    "    df['amenities'] = amenities\n",
    "    possible_amenities = set([item for sublist in amenities for item in sublist])\n",
    "    possible_amenities = list(possible_amenities)\n",
    "    mlb = MultiLabelBinarizer()\n",
    "    amenities_result = pd.DataFrame(mlb.fit_transform(df['amenities']),\n",
    "                                columns=mlb.classes_, index=df.index)\n",
    "    df = pd.concat([df, amenities_result], axis=1, sort = False)\n",
    "    df.drop(['amenities'], axis = 1, inplace = True)\n",
    "    \n",
    "    \n",
    "    # Convert 'price' from string to numeric\n",
    "    df['price'] = df['price'].str.lstrip('$')\n",
    "    df['cleaning_fee'] = df['cleaning_fee'].str.lstrip('$')\n",
    "    df['security_deposit'] = df['security_deposit'].str.lstrip('$')\n",
    "    df['extra_people'] = df['extra_people'].str.lstrip('$')\n",
    "    #Now let's convert the string into float by removing \",\"\n",
    "    df['price'] = df['price'].str.replace(',','')\n",
    "    df['cleaning_fee'] = df['cleaning_fee'].str.replace(',','')\n",
    "    df['security_deposit'] = df['security_deposit'].str.replace(',','')\n",
    "    df['extra_people'] = df['extra_people'].str.replace(',','')\n",
    "    df['price'] = pd.to_numeric(df['price'])\n",
    "    df['cleaning_fee'] = pd.to_numeric(df['cleaning_fee'])\n",
    "    df['security_deposit'] = pd.to_numeric(df['security_deposit'])\n",
    "    df['extra_people'] = pd.to_numeric(df['extra_people'])\n",
    "    \n",
    "    # Lets remove the % in the \"host_response_rate\" and convert this column into number.\n",
    "    df['host_response_rate'] = df['host_response_rate'].str.rstrip('%')\n",
    "    df['host_response_rate'] = pd.to_numeric(df['host_response_rate'])\n",
    "    \n",
    "    # Translate the Chinese word into English\n",
    "    df.city = df.city.str.replace('波士顿', 'Boston')\n",
    "      \n",
    "    # Drop these columns\n",
    "    to_drop = ['host_location','host_verifications','calendar_updated','host_neighbourhood',\n",
    "           'smart_location','neighbourhood_cleansed', 'street','zipcode','description', 'name', \n",
    "           'picture_url','listing_url', 'market', 'host_has_profile_pic','jurisdiction_names']\n",
    "    df = df.drop(columns =to_drop,axis=1)\n",
    "    \n",
    "    \n",
    "    #lets put the this in a dataframe to use better later.\n",
    "    unique_value_int = df.select_dtypes(include=['float64', 'int64']).nunique()\n",
    "    #Choose the unique value is 1 and more than 1000 then put them into 2 different dataframes to drop it later.\n",
    "    unique_value_int_more_than400 = unique_value_int[unique_value_int>400].index\n",
    "    unique_value_int_between350and50 = unique_value_int[unique_value_int>50].index & unique_value_int[unique_value_int<350].index\n",
    "    unique_value_int_is1= unique_value_int[unique_value_int == 1].index\n",
    "    \n",
    "    # Drop them\n",
    "    df = df.drop(columns = unique_value_int_between350and50,axis=1)\n",
    "    df = df.drop(columns = unique_value_int_more_than400, axis=1)\n",
    "    df = df.drop(columns = unique_value_int_is1, axis=1)\n",
    "    \n",
    "    df = df.drop(['availability_365','accommodates', 'minimum_nights', 'calculated_host_listings_count', \n",
    "                                      'calculated_host_listings_count_entire_homes','availability_30', \n",
    "                                      'calculated_host_listings_count_private_rooms',\n",
    "                                      'calculated_host_listings_count_shared_rooms',\n",
    "                                     'minimum_minimum_nights'], axis=1)\n",
    "    \n",
    "     # Fill numeric columns with the mean\n",
    "    num_vars = df.select_dtypes(include=['float64', 'int64', 'float', 'int']).columns\n",
    "    for col in num_vars:\n",
    "        df[col].fillna((df[col].mean()), inplace=True)\n",
    "        \n",
    "    cate_vars = df.select_dtypes(include=['object']).columns\n",
    "    for col in cate_vars:\n",
    "        df[col].fillna((df[col].mode()), inplace=True)\n",
    "    \n",
    "        \n",
    "    # Dummy the categorical variables\n",
    "    cat_vars = df.select_dtypes(include=['object']).copy().columns\n",
    "    for var in  cat_vars:\n",
    "        # for each cat add dummy var, drop original column\n",
    "        df = pd.concat([df.drop(var, axis=1), pd.get_dummies(df[var], prefix=var, prefix_sep='_', drop_first=True)], axis=1)\n",
    "    \n",
    "    \n",
    "    X = X.drop('price', axis=1)\n",
    "    return X, y\n",
    "\n",
    "#Use the function to create X and y"
   ]
  },
  {
   "cell_type": "markdown",
   "metadata": {},
   "source": [
    "### Access the data - Seattle Listing data"
   ]
  },
  {
   "cell_type": "code",
   "execution_count": 323,
   "metadata": {},
   "outputs": [
    {
     "name": "stderr",
     "output_type": "stream",
     "text": [
      "C:\\Users\\Sai.Zhang\\Anaconda3\\lib\\site-packages\\IPython\\core\\interactiveshell.py:2785: DtypeWarning: Columns (61,62,94) have mixed types. Specify dtype option on import or set low_memory=False.\n",
      "  interactivity=interactivity, compiler=compiler, result=result)\n"
     ]
    }
   ],
   "source": [
    "seattle_listing = pd.read_csv('listings_1.csv')"
   ]
  },
  {
   "cell_type": "markdown",
   "metadata": {},
   "source": [
    "### Clean the data - Seattle Listing data"
   ]
  },
  {
   "cell_type": "code",
   "execution_count": 351,
   "metadata": {},
   "outputs": [],
   "source": [
    "X, y = clean_data(seattle_listing)"
   ]
  },
  {
   "cell_type": "markdown",
   "metadata": {},
   "source": [
    "### Train and test the data, build a Machine Learning Model - Seattle Listing data"
   ]
  },
  {
   "cell_type": "code",
   "execution_count": 355,
   "metadata": {},
   "outputs": [],
   "source": [
    "# Split the 'features' and 'income' data into training and testing sets\n",
    "feature = X\n",
    "price = y\n",
    "feature_train, feature_test, price_train, price_test = train_test_split(feature, price, test_size=0.2, random_state=42)"
   ]
  },
  {
   "cell_type": "code",
   "execution_count": 356,
   "metadata": {},
   "outputs": [
    {
     "data": {
      "text/plain": [
       "<matplotlib.axes._subplots.AxesSubplot at 0x22f33e1d1d0>"
      ]
     },
     "execution_count": 356,
     "metadata": {},
     "output_type": "execute_result"
    },
    {
     "data": {
      "image/png": "[encoded data removed]",
      "text/plain": [
       "<Figure size 576x720 with 1 Axes>"
      ]
     },
     "metadata": {
      "needs_background": "light"
     },
     "output_type": "display_data"
    }
   ],
   "source": [
    "model2 = RandomForestRegressor().fit(feature_train,price_train)\n",
    "\n",
    "# TODO: Extract the feature importances using .feature_importances_ \n",
    "importances = model2.feature_importances_\n",
    "\n",
    "# Plot\n",
    "feat_imp = pd.Series(model2.feature_importances_, index=X.columns)\n",
    "feat_imp.nlargest(30).plot(kind='barh', figsize=(8,10))"
   ]
  },
  {
   "cell_type": "markdown",
   "metadata": {},
   "source": [
    "### Seattle VS Boston - Most predictive features\n",
    "\n",
    "As you can see in Seattle, for the price trend, the most predictive features, lets say the features which influence most on the price change is \n",
    "\n",
    "- Number of bedrooms \n",
    "- number of bathrooms \n",
    "- number of beds\n",
    "- number of reviews\n",
    "- Neighbourhoods\n",
    "\n",
    "In Boston, the most predictive Features are:\n",
    "\n",
    "- Number of beds\n",
    "- Self check in system\n",
    "- Private room type\n",
    "- Number of bathrooms\n",
    "- City center of Boston\n"
   ]
  },
  {
   "cell_type": "code",
   "execution_count": null,
   "metadata": {},
   "outputs": [],
   "source": []
  },
  {
   "cell_type": "code",
   "execution_count": null,
   "metadata": {},
   "outputs": [],
   "source": []
  },
  {
   "cell_type": "code",
   "execution_count": null,
   "metadata": {},
   "outputs": [],
   "source": []
  }
 ],
 "metadata": {
  "kernelspec": {
   "display_name": "Python 3",
   "language": "python",
   "name": "python3"
  },
  "language_info": {
   "codemirror_mode": {
    "name": "ipython",
    "version": 3
   },
   "file_extension": ".py",
   "mimetype": "text/x-python",
   "name": "python",
   "nbconvert_exporter": "python",
   "pygments_lexer": "ipython3",
   "version": "3.6.5"
  }
 },
 "nbformat": 4,
 "nbformat_minor": 2
}
